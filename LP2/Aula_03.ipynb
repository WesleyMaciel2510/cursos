{
  "nbformat": 4,
  "nbformat_minor": 0,
  "metadata": {
    "colab": {
      "name": "Aula 03.ipynb",
      "provenance": [],
      "collapsed_sections": [],
      "authorship_tag": "ABX9TyMPMFZ+4DtUTaUC9Z7Esauv",
      "include_colab_link": true
    },
    "kernelspec": {
      "name": "python3",
      "display_name": "Python 3"
    },
    "language_info": {
      "name": "python"
    }
  },
  "cells": [
    {
      "cell_type": "markdown",
      "metadata": {
        "id": "view-in-github",
        "colab_type": "text"
      },
      "source": [
        "<a href=\"https://colab.research.google.com/github/tmelo-uea/cursos/blob/main/LP2/Aula_03.ipynb\" target=\"_parent\"><img src=\"https://colab.research.google.com/assets/colab-badge.svg\" alt=\"Open In Colab\"/></a>"
      ]
    },
    {
      "cell_type": "markdown",
      "metadata": {
        "id": "2-JNqtzQMhbp"
      },
      "source": [
        "#Operações e Expressões"
      ]
    },
    {
      "cell_type": "markdown",
      "metadata": {
        "id": "s5M29AZXVjiE"
      },
      "source": [
        "## Operador de Atribuição"
      ]
    },
    {
      "cell_type": "markdown",
      "metadata": {
        "id": "QrLC9HZ-VmN5"
      },
      "source": [
        "O operador de atribuição em C é o sinal de igualdade: `=`."
      ]
    },
    {
      "cell_type": "markdown",
      "metadata": {
        "id": "CasrfKBbVt2V"
      },
      "source": [
        "O operador `=` pega o valor da direita e atribui à variável da esquerda."
      ]
    },
    {
      "cell_type": "markdown",
      "metadata": {
        "id": "8ysj3O0tWKme"
      },
      "source": [
        "```\n",
        "x = 10;\n",
        "x = y = z = 5;\n",
        "```"
      ]
    },
    {
      "cell_type": "markdown",
      "metadata": {
        "id": "BFMSg0A2WF7D"
      },
      "source": [
        "O operador também retorna o valor que ele atribuiu."
      ]
    },
    {
      "cell_type": "markdown",
      "metadata": {
        "id": "HYZ988XyWArE"
      },
      "source": [
        "\n",
        "\n",
        "```\n",
        "if (x=y)\n",
        "```\n",
        "\n"
      ]
    },
    {
      "cell_type": "markdown",
      "metadata": {
        "id": "svYYgMVdWfxx"
      },
      "source": [
        "A expressão acima será verdadeira quando y for diferente de zero."
      ]
    },
    {
      "cell_type": "markdown",
      "metadata": {
        "id": "mGI0IZBJMptg"
      },
      "source": [
        "## Operações Aritméticas"
      ]
    },
    {
      "cell_type": "markdown",
      "metadata": {
        "id": "OqPsWZJAMsng"
      },
      "source": [
        "Em C, é possível executar operações aritméticas usando variáveis e constantes."
      ]
    },
    {
      "cell_type": "markdown",
      "metadata": {
        "id": "Icqz5yV3M5Xq"
      },
      "source": [
        "Resumo das principais operações aritméticas:\n",
        "\n",
        "![image.png](data:image/png;base64,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)"
      ]
    },
    {
      "cell_type": "markdown",
      "metadata": {
        "id": "Zw_bKrHRQDUn"
      },
      "source": [
        "O operador / (divisão) quando aplicado a variáveis inteiras resulta em um valor inteiro, mas quando aplicado a variáveis reais (ponto flutuante) retorna um valor real.\n"
      ]
    },
    {
      "cell_type": "markdown",
      "metadata": {
        "id": "Ru0kdp8pZKm5"
      },
      "source": [
        "### Precedência de Operadores"
      ]
    },
    {
      "cell_type": "markdown",
      "metadata": {
        "id": "QxFmzQUnZMhZ"
      },
      "source": [
        "Assim como ocorre na Álgebra, há uma precedência de operadores em C."
      ]
    },
    {
      "cell_type": "markdown",
      "metadata": {
        "id": "7jwcIz5zZWmv"
      },
      "source": [
        "Considere a expressão abaixo:\n",
        "\n",
        "$(1 + x)(3x^2 + 1)$"
      ]
    },
    {
      "cell_type": "markdown",
      "metadata": {
        "id": "elbQgl35Zla5"
      },
      "source": [
        "As expressões dentro do parêntesis seriam avaliadas primeiramente, seguidas da exponenciação, multiplicação ou divisão, soma ou subtração."
      ]
    },
    {
      "cell_type": "markdown",
      "metadata": {
        "id": "_80PbJvWZ5Mm"
      },
      "source": [
        "Quando as operações adjacentes têm a mesma ordem de precedência, estas são avaliadas da esquerda para a direita."
      ]
    },
    {
      "cell_type": "markdown",
      "metadata": {
        "id": "5KZIBrDZZGLQ"
      },
      "source": [
        "### Operadores pré-fixados e pós-fixados"
      ]
    },
    {
      "cell_type": "markdown",
      "metadata": {
        "id": "VFHv8ifhSZkN"
      },
      "source": [
        "Os operadores unários de incremento e decremento podem ser pré-fixados ou pós-fixados."
      ]
    },
    {
      "cell_type": "markdown",
      "metadata": {
        "id": "TZ7mIhO4S6wC"
      },
      "source": [
        "Os operadores **pré-fixados** incrementam a variável e retornam o seu valor já incrementado. O mesmo vale para os operadores de decremento."
      ]
    },
    {
      "cell_type": "markdown",
      "metadata": {
        "id": "wci3Du9fTOHf"
      },
      "source": [
        "Os operadores **pós-fixados** retornam o valor da variável sem o incremento e depois incrementam a variável."
      ]
    },
    {
      "cell_type": "markdown",
      "metadata": {
        "id": "gANWo3clT11M"
      },
      "source": [
        "Qual é o valor das variáveis x e y?\n",
        "\n",
        "```\n",
        "x = 10;\n",
        "y = x++;\n",
        "```\n",
        "\n"
      ]
    },
    {
      "cell_type": "code",
      "metadata": {
        "colab": {
          "base_uri": "https://localhost:8080/"
        },
        "id": "SBoMfPPEUKoH",
        "outputId": "560d9816-59f8-4651-c83f-1808728101ca"
      },
      "source": [
        "%%writefile exemplo1-aula3.c\n",
        "#include <stdio.h>\n",
        "\n",
        "int main() {\n",
        "    int x, y;\n",
        "    x = 10;\n",
        "    y = x++;\n",
        "    printf (\"x: %d, y: %d\", x, y);\n",
        "    return 0;\n",
        "}"
      ],
      "execution_count": null,
      "outputs": [
        {
          "output_type": "stream",
          "text": [
            "Overwriting exemplo1-aula3.c\n"
          ],
          "name": "stdout"
        }
      ]
    },
    {
      "cell_type": "code",
      "metadata": {
        "colab": {
          "base_uri": "https://localhost:8080/"
        },
        "id": "HBIXaPs5Uqrv",
        "outputId": "7a5054f1-c7d1-41f1-abc7-47c56dbfae94"
      },
      "source": [
        "%%shell\n",
        "gcc exemplo1-aula3.c -o exemplo1-aula3\n",
        "./exemplo1-aula3"
      ],
      "execution_count": null,
      "outputs": [
        {
          "output_type": "stream",
          "text": [
            "x: 11, y: 10"
          ],
          "name": "stdout"
        },
        {
          "output_type": "execute_result",
          "data": {
            "text/plain": [
              ""
            ]
          },
          "metadata": {
            "tags": []
          },
          "execution_count": 7
        }
      ]
    },
    {
      "cell_type": "markdown",
      "metadata": {
        "id": "bH2CK0Y-VLhl"
      },
      "source": [
        "Qual é o valor das variáveis x e y?\n",
        "\n",
        "```\n",
        "x = 10;\n",
        "y = ++x;\n",
        "```"
      ]
    },
    {
      "cell_type": "code",
      "metadata": {
        "colab": {
          "base_uri": "https://localhost:8080/"
        },
        "id": "jUhIl44OVUvT",
        "outputId": "ceb93c76-4d51-4b25-ad72-1155b10934d8"
      },
      "source": [
        "%%writefile exemplo2-aula3.c\n",
        "#include <stdio.h>\n",
        "\n",
        "int main() {\n",
        "    int x, y;\n",
        "    x = 10;\n",
        "    y = ++x;\n",
        "    printf (\"x: %d, y: %d\", x, y);\n",
        "    return 0;\n",
        "}"
      ],
      "execution_count": null,
      "outputs": [
        {
          "output_type": "stream",
          "text": [
            "Writing exemplo2-aula3.c\n"
          ],
          "name": "stdout"
        }
      ]
    },
    {
      "cell_type": "code",
      "metadata": {
        "colab": {
          "base_uri": "https://localhost:8080/"
        },
        "id": "9Lrq2deaVYUu",
        "outputId": "ec328246-1369-4f33-c363-5a66ee57383f"
      },
      "source": [
        "%%shell\n",
        "gcc exemplo2-aula3.c -o exemplo2-aula3\n",
        "./exemplo2-aula3"
      ],
      "execution_count": null,
      "outputs": [
        {
          "output_type": "stream",
          "text": [
            "x: 11, y: 11"
          ],
          "name": "stdout"
        },
        {
          "output_type": "execute_result",
          "data": {
            "text/plain": [
              ""
            ]
          },
          "metadata": {
            "tags": []
          },
          "execution_count": 9
        }
      ]
    },
    {
      "cell_type": "markdown",
      "metadata": {
        "id": "QiTJ2FFSWuLV"
      },
      "source": [
        "## Operadores Relacionais"
      ]
    },
    {
      "cell_type": "markdown",
      "metadata": {
        "id": "-G_rda_GWyBc"
      },
      "source": [
        "Resumo das principais operações relacionais:\n",
        "\n",
        "![image.png](data:image/png;base64,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)"
      ]
    },
    {
      "cell_type": "markdown",
      "metadata": {
        "id": "mFZG25CMXp81"
      },
      "source": [
        "Os resultados dos operadores podem ser 0 (corresponde a falso) ou 1 (corresponde a verdadeiro)."
      ]
    },
    {
      "cell_type": "markdown",
      "metadata": {
        "id": "waawogWOX3kQ"
      },
      "source": [
        "Não existe o tipo *booleano* em C. Este tipo de valor é representado como variáveis numéricas do tipo `int`."
      ]
    },
    {
      "cell_type": "markdown",
      "metadata": {
        "id": "KfMXAeXMYw4Y"
      },
      "source": [
        "Deve-se observar que **qualquer valor diferente de zero** é considerado verdadeiro em C."
      ]
    },
    {
      "cell_type": "markdown",
      "metadata": {
        "id": "gUaDqF-rYNrQ"
      },
      "source": [
        "### Precedência entre Operadores"
      ]
    },
    {
      "cell_type": "markdown",
      "metadata": {
        "id": "cXuUNJkuYTH0"
      },
      "source": [
        "Os operadores aritméticos têm precedência sobre os operadores relacionais.\n",
        "\n"
      ]
    },
    {
      "cell_type": "markdown",
      "metadata": {
        "id": "tLv2xeMRYkJj"
      },
      "source": [
        "A expressão `2 + 4 < 5 * 2` é equivalente à expressão `(2 + 4) < (5 * 2)`."
      ]
    }
  ]
}