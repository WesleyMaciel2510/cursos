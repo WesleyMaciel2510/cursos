{
  "nbformat": 4,
  "nbformat_minor": 0,
  "metadata": {
    "colab": {
      "name": "Aula 05.ipynb",
      "provenance": [],
      "collapsed_sections": [],
      "authorship_tag": "ABX9TyMRCyY/PXf7y8Rf6hK6RB22",
      "include_colab_link": true
    },
    "kernelspec": {
      "name": "python3",
      "display_name": "Python 3"
    },
    "language_info": {
      "name": "python"
    }
  },
  "cells": [
    {
      "cell_type": "markdown",
      "metadata": {
        "id": "view-in-github",
        "colab_type": "text"
      },
      "source": [
        "<a href=\"https://colab.research.google.com/github/tmelo-uea/cursos/blob/main/LP2/Aula_05.ipynb\" target=\"_parent\"><img src=\"https://colab.research.google.com/assets/colab-badge.svg\" alt=\"Open In Colab\"/></a>"
      ]
    },
    {
      "cell_type": "markdown",
      "metadata": {
        "id": "JVDZ4taVqXLq"
      },
      "source": [
        "#Comandos de Repetição"
      ]
    },
    {
      "cell_type": "markdown",
      "metadata": {
        "id": "lxmh04vOqd-6"
      },
      "source": [
        "Os comandos de repetição executam um bloco de instruções enquanto uma determinada condição for verdadeira. \n",
        "\n",
        "Existem três estruturas de repetição em C:\n",
        "*   `while`\n",
        "*   `do ... while`\n",
        "*   `for`"
      ]
    },
    {
      "cell_type": "markdown",
      "metadata": {
        "id": "Ko_ckEJWq_Pt"
      },
      "source": [
        "## Comando `while`"
      ]
    },
    {
      "cell_type": "markdown",
      "metadata": {
        "id": "bOiOZHh0rwZH"
      },
      "source": [
        "Sintaxe do comando `while` em C:"
      ]
    },
    {
      "cell_type": "markdown",
      "metadata": {
        "id": "t05QDVENr0s3"
      },
      "source": [
        "\n",
        "\n",
        "```\n",
        "while (condição) {\n",
        "  lista de instruções;\n",
        "}\n",
        "```\n",
        "\n"
      ]
    },
    {
      "cell_type": "markdown",
      "metadata": {
        "id": "JlASXNXtr80j"
      },
      "source": [
        "Regras sobre o comando `while`:\n",
        "\n",
        "*   Comumente usamos uma **variável de controle** que será testada na condição;\n",
        "*   Para usar a variável de controle, é necessário fazer a sua inicialização previamente;\n",
        "*   A condição será testada a cada iteração do bloco e deverá ser verdadeira ou falsa;\n",
        "*   Enquanto a condição for verdadeira, todas as instruções do bloco serão executadas;\n",
        "*   Quando a condição se tornar falsa, o bloco será saltado;\n",
        "*   Se a condição for falsa na primeira comparação, então o bloco não será executado.\n",
        "\n"
      ]
    },
    {
      "cell_type": "markdown",
      "metadata": {
        "id": "qYDqsWNCs668"
      },
      "source": [
        "O exemplo abaixo mostra um código que imprime os números de 1 a 10."
      ]
    },
    {
      "cell_type": "code",
      "metadata": {
        "colab": {
          "base_uri": "https://localhost:8080/"
        },
        "id": "JkSogjDDplQr",
        "outputId": "7c13bc7c-fb46-46d3-a1e8-9735f85aa2b3"
      },
      "source": [
        "%%writefile exemplo1-aula5.c\n",
        "#include <stdio.h>\n",
        "\n",
        "int main() {\n",
        "  int i = 1;\n",
        "  while (i <= 10) {\n",
        "      printf (\"%d \", i);\n",
        "      i++;\n",
        "  }\n",
        "  return 0;\n",
        "}"
      ],
      "execution_count": 5,
      "outputs": [
        {
          "output_type": "stream",
          "text": [
            "Overwriting exemplo1-aula5.c\n"
          ],
          "name": "stdout"
        }
      ]
    },
    {
      "cell_type": "code",
      "metadata": {
        "colab": {
          "base_uri": "https://localhost:8080/"
        },
        "id": "EAUYWBVLtf5J",
        "outputId": "025ca1d1-dbb2-4377-d67f-b03335dc0f25"
      },
      "source": [
        "%%shell\n",
        "gcc exemplo1-aula5.c -o exemplo1-aula5\n",
        "./exemplo1-aula5"
      ],
      "execution_count": 6,
      "outputs": [
        {
          "output_type": "stream",
          "text": [
            "1 2 3 4 5 6 7 8 9 10 "
          ],
          "name": "stdout"
        },
        {
          "output_type": "execute_result",
          "data": {
            "text/plain": [
              ""
            ]
          },
          "metadata": {
            "tags": []
          },
          "execution_count": 6
        }
      ]
    },
    {
      "cell_type": "markdown",
      "metadata": {
        "id": "9zwqxZKjt3CY"
      },
      "source": [
        "Deve-se observar que a variável de controle deve ser manipulada para que o programa encerre o bloco. Caso contrário, o programa ficará em *loop* eterno."
      ]
    },
    {
      "cell_type": "markdown",
      "metadata": {
        "id": "9LzDu3jXuI1c"
      },
      "source": [
        "## Comando `do while`"
      ]
    },
    {
      "cell_type": "markdown",
      "metadata": {
        "id": "3QbTkY_luT03"
      },
      "source": [
        "O comando `do while` é bastante parecido com o comando `while`, mas aquele executa o bloco ao menos uma vez e a condição é verificada ao final da execução do bloco."
      ]
    },
    {
      "cell_type": "markdown",
      "metadata": {
        "id": "_z2zv1ItuOHZ"
      },
      "source": [
        "Sintaxe do comando `do while` em C:"
      ]
    },
    {
      "cell_type": "markdown",
      "metadata": {
        "id": "D25bF2O7utS1"
      },
      "source": [
        "\n",
        "\n",
        "```\n",
        "do  {\n",
        "  lista de instruções;\n",
        "} while (condição);\n",
        "```\n",
        "\n"
      ]
    },
    {
      "cell_type": "markdown",
      "metadata": {
        "id": "ltoIdYzMu2hy"
      },
      "source": [
        "Regras do comando `do while`:\n",
        "\n",
        "\n",
        "*   A condição é verificada ao final do bloco;\n",
        "*   Se a condição não se tornar falsa em algum momento, o bloco será executado indefinitivamente.\n",
        "*   Deve-se observar que existe um ponto-e-vírgula depois do comando `while`.\n",
        "\n"
      ]
    },
    {
      "cell_type": "markdown",
      "metadata": {
        "id": "LQlgGWy7vNvV"
      },
      "source": [
        "O exemplo abaixo mostra um código que pede ao usuário digitar um número entre 1 e 100. Enquanto o usuário não digitar um número váldio, o programa pedirá para o usuário digitar o novo valor."
      ]
    },
    {
      "cell_type": "code",
      "metadata": {
        "colab": {
          "base_uri": "https://localhost:8080/"
        },
        "id": "puyBAXj8vZY5",
        "outputId": "4aef6282-4e97-4fdd-a044-484697d5dd7c"
      },
      "source": [
        "%%writefile exemplo2-aula5.c\n",
        "#include <stdio.h>\n",
        "\n",
        "int main() {\n",
        "  int num;\n",
        "  do {\n",
        "      printf(\"Digite um número: \");\n",
        "      scanf(\"%d\", &num);\n",
        "  } while (num < 1 || num > 100);\n",
        "  return 0;\n",
        "}"
      ],
      "execution_count": 15,
      "outputs": [
        {
          "output_type": "stream",
          "text": [
            "Overwriting exemplo2-aula5.c\n"
          ],
          "name": "stdout"
        }
      ]
    },
    {
      "cell_type": "code",
      "metadata": {
        "colab": {
          "base_uri": "https://localhost:8080/"
        },
        "id": "1GUb0UN3vcEi",
        "outputId": "7c9eb1d2-dc59-4f98-b818-7cd2fe34f8d7"
      },
      "source": [
        "%%shell\n",
        "gcc exemplo2-aula5.c -o exemplo2-aula5\n",
        "./exemplo2-aula5"
      ],
      "execution_count": 16,
      "outputs": [
        {
          "output_type": "stream",
          "text": [
            "Digite um número: -4\n",
            "Digite um número: 200\n",
            "Digite um número: 50\n"
          ],
          "name": "stdout"
        },
        {
          "output_type": "execute_result",
          "data": {
            "text/plain": [
              ""
            ]
          },
          "metadata": {
            "tags": []
          },
          "execution_count": 16
        }
      ]
    },
    {
      "cell_type": "markdown",
      "metadata": {
        "id": "auZ1nkmlxjqr"
      },
      "source": [
        "## Comando `for`"
      ]
    },
    {
      "cell_type": "markdown",
      "metadata": {
        "id": "DhORsxwsxpC9"
      },
      "source": [
        "Sintaxe do comando `for` em C:"
      ]
    },
    {
      "cell_type": "markdown",
      "metadata": {
        "id": "Cc9sVQ6dxsBc"
      },
      "source": [
        "\n",
        "\n",
        "```\n",
        "for (expr1; expr2; expr3) {\n",
        "  lista de instruções;\n",
        "}\n",
        "```\n",
        "\n"
      ]
    },
    {
      "cell_type": "markdown",
      "metadata": {
        "id": "_S-KfEHJ25f0"
      },
      "source": [
        "O comando `for` é o comando mais comumente usado por programadores na escrita de blocos."
      ]
    },
    {
      "cell_type": "markdown",
      "metadata": {
        "id": "EPart4sR3D_g"
      },
      "source": [
        "Regras do comando `for`:\n",
        "*   **expr1**: definição das declarações e inicializações;\n",
        "*   **expr2**: critério de término de execução do bloco através de condição com uma variável de controle;\n",
        "*   **expr3**: incremento ou decremento da variável de controle que aparece em expr2;\n",
        "\n"
      ]
    },
    {
      "cell_type": "markdown",
      "metadata": {
        "id": "xJvbg4Mj3vn8"
      },
      "source": [
        "O exemplo abaixo imprime os números de 1 a 10: "
      ]
    },
    {
      "cell_type": "code",
      "metadata": {
        "colab": {
          "base_uri": "https://localhost:8080/"
        },
        "id": "CP1uvoLE3tGT",
        "outputId": "a94dc016-c99c-4d46-e210-481aac866496"
      },
      "source": [
        "%%writefile exemplo3-aula5.c\n",
        "#include <stdio.h>\n",
        "\n",
        "int main() {\n",
        "  for (int i = 1; i <= 10; i++) {\n",
        "      printf (\"%d \", i);\n",
        "  }\n",
        "  return 0;\n",
        "}"
      ],
      "execution_count": 17,
      "outputs": [
        {
          "output_type": "stream",
          "text": [
            "Writing exemplo3-aula5.c\n"
          ],
          "name": "stdout"
        }
      ]
    },
    {
      "cell_type": "code",
      "metadata": {
        "colab": {
          "base_uri": "https://localhost:8080/"
        },
        "id": "EMsUT9NQ3_sz",
        "outputId": "5bb4b436-ef1e-4761-9544-1af4bc181162"
      },
      "source": [
        "%%shell\n",
        "gcc exemplo3-aula5.c -o exemplo3-aula5\n",
        "./exemplo3-aula5"
      ],
      "execution_count": 18,
      "outputs": [
        {
          "output_type": "stream",
          "text": [
            "1 2 3 4 5 6 7 8 9 10 "
          ],
          "name": "stdout"
        },
        {
          "output_type": "execute_result",
          "data": {
            "text/plain": [
              ""
            ]
          },
          "metadata": {
            "tags": []
          },
          "execution_count": 18
        }
      ]
    },
    {
      "cell_type": "markdown",
      "metadata": {
        "id": "tkBccVUK35-b"
      },
      "source": [
        "Compare o código acima com o exemplo do código do comando `while`."
      ]
    },
    {
      "cell_type": "markdown",
      "metadata": {
        "id": "ZYQ5lh4k4oF_"
      },
      "source": [
        "## Comandos de Interrupção"
      ]
    },
    {
      "cell_type": "markdown",
      "metadata": {
        "id": "Y2o_EBTl4ryp"
      },
      "source": [
        "### Comando `break`"
      ]
    },
    {
      "cell_type": "markdown",
      "metadata": {
        "id": "Gzd409Ze4vQ0"
      },
      "source": [
        "O comando `break` é utilizado para que o bloco finalize a execução."
      ]
    },
    {
      "cell_type": "markdown",
      "metadata": {
        "id": "MCe-pjta5C1K"
      },
      "source": [
        "Se houver *loops* aninhados, apenas o *loop* mais interno será finalizado."
      ]
    },
    {
      "cell_type": "markdown",
      "metadata": {
        "id": "qtD7Zs7Q66Hx"
      },
      "source": [
        "O exemplo abaixo lê até 5 números digitados pelo usuário e, ao final, imprime a quantidade de números positivos (válidos). Caso o usuário digite um número negativo, o bloco é encerrado e o programa exibe a quantidade de números positivos (válidos)."
      ]
    },
    {
      "cell_type": "code",
      "metadata": {
        "colab": {
          "base_uri": "https://localhost:8080/"
        },
        "id": "xrGUSZlu6BUG",
        "outputId": "4984878c-9cea-406d-e05a-61c281939636"
      },
      "source": [
        "%%writefile exemplo4-aula5.c\n",
        "#include <stdio.h>\n",
        "\n",
        "int main() {\n",
        "  int total=0, num;\n",
        "  for (int i = 1; i <= 5; i++) {\n",
        "      scanf(\"%d\", &num);\n",
        "      if (num <0)\n",
        "          break;\n",
        "      else\n",
        "        total+=1;\n",
        "  }\n",
        "  printf (\"Foram digitados %d números válidos.\", total);\n",
        "  return 0;\n",
        "}"
      ],
      "execution_count": 19,
      "outputs": [
        {
          "output_type": "stream",
          "text": [
            "Writing exemplo4-aula5.c\n"
          ],
          "name": "stdout"
        }
      ]
    },
    {
      "cell_type": "code",
      "metadata": {
        "colab": {
          "base_uri": "https://localhost:8080/"
        },
        "id": "ayF3d89V6FON",
        "outputId": "2052d701-4ea9-4d4b-fb6b-fa4b360931bd"
      },
      "source": [
        "%%shell\n",
        "gcc exemplo4-aula5.c -o exemplo4-aula5\n",
        "./exemplo4-aula5"
      ],
      "execution_count": 20,
      "outputs": [
        {
          "output_type": "stream",
          "text": [
            "12\n",
            "15\n",
            "-5\n",
            "Foram digitados 2 números válidos."
          ],
          "name": "stdout"
        },
        {
          "output_type": "execute_result",
          "data": {
            "text/plain": [
              ""
            ]
          },
          "metadata": {
            "tags": []
          },
          "execution_count": 20
        }
      ]
    },
    {
      "cell_type": "markdown",
      "metadata": {
        "id": "cgAvMQDs5bTu"
      },
      "source": [
        "### Comando `continue`"
      ]
    },
    {
      "cell_type": "markdown",
      "metadata": {
        "id": "oO09lIY45eDR"
      },
      "source": [
        "O comando `continue` é usado para a interrupção do laço atual de execução. Porém, ele **não** termina a execução do bloco."
      ]
    },
    {
      "cell_type": "markdown",
      "metadata": {
        "id": "dlf6nC-e7fKs"
      },
      "source": [
        "O exemplo abaixo é parecido com o exemplo anterior, mas neste caso o usuário sempre irá digitar 5 valores e o programa exibirá a quantidade de números positivos (válidos)."
      ]
    },
    {
      "cell_type": "code",
      "metadata": {
        "colab": {
          "base_uri": "https://localhost:8080/"
        },
        "id": "B6v87zIh7TqP",
        "outputId": "e3310ba7-77b1-436c-c976-6976bb36d90c"
      },
      "source": [
        "%%writefile exemplo5-aula5.c\n",
        "#include <stdio.h>\n",
        "\n",
        "int main() {\n",
        "  int total=0, num;\n",
        "  for (int i = 1; i <= 5; i++) {\n",
        "      scanf(\"%d\", &num);\n",
        "      if (num <0)\n",
        "          continue;\n",
        "      else\n",
        "        total+=1;\n",
        "  }\n",
        "  printf (\"Foram digitados %d números válidos.\", total);\n",
        "  return 0;\n",
        "}"
      ],
      "execution_count": 21,
      "outputs": [
        {
          "output_type": "stream",
          "text": [
            "Writing exemplo5-aula5.c\n"
          ],
          "name": "stdout"
        }
      ]
    },
    {
      "cell_type": "code",
      "metadata": {
        "colab": {
          "base_uri": "https://localhost:8080/"
        },
        "id": "4odN46xO7U0W",
        "outputId": "f931e515-a338-46f7-cd8c-0d637432c108"
      },
      "source": [
        "%%shell\n",
        "gcc exemplo5-aula5.c -o exemplo5-aula5\n",
        "./exemplo5-aula5"
      ],
      "execution_count": 22,
      "outputs": [
        {
          "output_type": "stream",
          "text": [
            "12\n",
            "15\n",
            "-5\n",
            "10\n",
            "50\n",
            "Foram digitados 4 números válidos."
          ],
          "name": "stdout"
        },
        {
          "output_type": "execute_result",
          "data": {
            "text/plain": [
              ""
            ]
          },
          "metadata": {
            "tags": []
          },
          "execution_count": 22
        }
      ]
    }
  ]
}