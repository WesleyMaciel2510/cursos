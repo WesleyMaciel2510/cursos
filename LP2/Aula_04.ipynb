{
  "nbformat": 4,
  "nbformat_minor": 0,
  "metadata": {
    "colab": {
      "name": "Aula 04.ipynb",
      "provenance": [],
      "collapsed_sections": [],
      "authorship_tag": "ABX9TyNODqaXB/OZjgSW8m7itrLw",
      "include_colab_link": true
    },
    "kernelspec": {
      "name": "python3",
      "display_name": "Python 3"
    },
    "language_info": {
      "name": "python"
    }
  },
  "cells": [
    {
      "cell_type": "markdown",
      "metadata": {
        "id": "view-in-github",
        "colab_type": "text"
      },
      "source": [
        "<a href=\"https://colab.research.google.com/github/tmelo-uea/cursos/blob/main/LP2/Aula_04.ipynb\" target=\"_parent\"><img src=\"https://colab.research.google.com/assets/colab-badge.svg\" alt=\"Open In Colab\"/></a>"
      ]
    },
    {
      "cell_type": "markdown",
      "metadata": {
        "id": "n2s5jdDvpiWI"
      },
      "source": [
        "#Comandos Condicionais"
      ]
    },
    {
      "cell_type": "markdown",
      "metadata": {
        "id": "LNoV1L0XplJr"
      },
      "source": [
        "Comandos condicionais são instruções utilizadas para testar se uma determinada condição é falsa ou verdadeira."
      ]
    },
    {
      "cell_type": "markdown",
      "metadata": {
        "id": "FUO9X28mp82i"
      },
      "source": [
        "## Comando `if`"
      ]
    },
    {
      "cell_type": "markdown",
      "metadata": {
        "id": "v2nrGdqEqZT8"
      },
      "source": [
        "Sintaxe do comando `if` em C:"
      ]
    },
    {
      "cell_type": "markdown",
      "metadata": {
        "id": "rfD3ovY9qfSf"
      },
      "source": [
        "```\n",
        "if (condição) {\n",
        "  lista de instruções;\n",
        "}\n",
        "```\n",
        "\n"
      ]
    },
    {
      "cell_type": "markdown",
      "metadata": {
        "id": "bi6ebMSKqsxb"
      },
      "source": [
        "Regras sobre o comando `if`:\n",
        "\n",
        "*   As chaves são empregadas para determinar o bloco;\n",
        "*   O bloco somente será executado se a condição for verdadeira;\n",
        "*   A condição deve estar entre parênteses;\n",
        "*   É possível combinar diversas condições através de conectores `&&` (AND) e `||` (OR);\n",
        "\n"
      ]
    },
    {
      "cell_type": "markdown",
      "metadata": {
        "id": "7QMttDBktDeQ"
      },
      "source": [
        "O exemplo abaixo mostra um código que imprime uma mensagem quando o número digitado for maior que 100."
      ]
    },
    {
      "cell_type": "code",
      "metadata": {
        "colab": {
          "base_uri": "https://localhost:8080/"
        },
        "id": "zu9_KYGgnquI",
        "outputId": "884a84f2-58fd-40d4-bdbb-166285f8f708"
      },
      "source": [
        "%%writefile exemplo1-aula4.c\n",
        "#include <stdio.h>\n",
        "\n",
        "int main() {\n",
        "    int num;\n",
        "    scanf(\"%d\", &num);\n",
        "    if (num>100) {\n",
        "        printf(\"O valor %d é maior que 100.\", num);\n",
        "    }\n",
        "    return 0;\n",
        "}"
      ],
      "execution_count": null,
      "outputs": [
        {
          "output_type": "stream",
          "text": [
            "Overwriting exemplo1-aula4.c\n"
          ],
          "name": "stdout"
        }
      ]
    },
    {
      "cell_type": "code",
      "metadata": {
        "colab": {
          "base_uri": "https://localhost:8080/"
        },
        "id": "axnaI3G0sz6B",
        "outputId": "52cb7df8-676d-4f85-c906-2f2965e03284"
      },
      "source": [
        "%%shell\n",
        "gcc exemplo1-aula4.c -o exemplo1-aula4\n",
        "./exemplo1-aula4"
      ],
      "execution_count": null,
      "outputs": [
        {
          "output_type": "stream",
          "text": [
            "200\n",
            "O valor 200 é maior que 100."
          ],
          "name": "stdout"
        },
        {
          "output_type": "execute_result",
          "data": {
            "text/plain": [
              ""
            ]
          },
          "metadata": {
            "tags": []
          },
          "execution_count": 4
        }
      ]
    },
    {
      "cell_type": "markdown",
      "metadata": {
        "id": "OckmrbQktKYA"
      },
      "source": [
        "O que acontece quando o número digitado for menor ou igual a 100?"
      ]
    },
    {
      "cell_type": "markdown",
      "metadata": {
        "id": "aS6YBg_XtQvq"
      },
      "source": [
        "## Comando `if-else`"
      ]
    },
    {
      "cell_type": "markdown",
      "metadata": {
        "id": "dZ6Srdcjt3Xb"
      },
      "source": [
        "Em muitas situações, nós gostaríamos de poder escolher as instruções a serem executados quando a condição `if` não seja verdadeira."
      ]
    },
    {
      "cell_type": "markdown",
      "metadata": {
        "id": "RrzrUzYUuK3a"
      },
      "source": [
        "A condição `if-else` permite executar realizar outras instruções de um novo bloco."
      ]
    },
    {
      "cell_type": "markdown",
      "metadata": {
        "id": "-GO5DDuBuUub"
      },
      "source": [
        "Sintaxe do comando `if-else` em C:"
      ]
    },
    {
      "cell_type": "markdown",
      "metadata": {
        "id": "bQNc_-2vuYqk"
      },
      "source": [
        "```\n",
        "if (condição) {\n",
        "  lista de instruções;\n",
        "}\n",
        "else {\n",
        "  outra lista de instruções;\n",
        "}\n",
        "```"
      ]
    },
    {
      "cell_type": "markdown",
      "metadata": {
        "id": "axYXRI_5usWS"
      },
      "source": [
        "O exemplo abaixo mostra um código que testa se um número digitado é par ou ímpar."
      ]
    },
    {
      "cell_type": "code",
      "metadata": {
        "colab": {
          "base_uri": "https://localhost:8080/"
        },
        "id": "h1qeVVXNuxa5",
        "outputId": "c3010e4e-12d1-4593-f40c-a7c1a59b54a2"
      },
      "source": [
        "%%writefile exemplo2-aula4.c\n",
        "#include <stdio.h>\n",
        "\n",
        "int main() {\n",
        "    int num;\n",
        "    scanf(\"%d\", &num);\n",
        "    if (num%2==0) {\n",
        "        printf(\"%d é par.\", num);\n",
        "    }\n",
        "    else {\n",
        "        printf(\"%d é ímpar.\", num);\n",
        "    }\n",
        "    return 0;\n",
        "}"
      ],
      "execution_count": null,
      "outputs": [
        {
          "output_type": "stream",
          "text": [
            "Overwriting exemplo2-aula4.c\n"
          ],
          "name": "stdout"
        }
      ]
    },
    {
      "cell_type": "code",
      "metadata": {
        "colab": {
          "base_uri": "https://localhost:8080/"
        },
        "id": "Z3Kn4yhFu-ke",
        "outputId": "2a628b20-a936-4b6c-fc38-a2bce3ba20ca"
      },
      "source": [
        "%%shell\n",
        "gcc exemplo2-aula4.c -o exemplo2-aula4\n",
        "./exemplo2-aula4"
      ],
      "execution_count": null,
      "outputs": [
        {
          "output_type": "stream",
          "text": [
            "53\n",
            "53 é ímpar."
          ],
          "name": "stdout"
        },
        {
          "output_type": "execute_result",
          "data": {
            "text/plain": [
              ""
            ]
          },
          "metadata": {
            "tags": []
          },
          "execution_count": 8
        }
      ]
    },
    {
      "cell_type": "markdown",
      "metadata": {
        "id": "wnLRt1UovRuS"
      },
      "source": [
        "## Comando `?`"
      ]
    },
    {
      "cell_type": "markdown",
      "metadata": {
        "id": "EDcHTIPBvVcX"
      },
      "source": [
        "O comando `if-else` pode ser substituído pelo comando `?`."
      ]
    },
    {
      "cell_type": "markdown",
      "metadata": {
        "id": "f6xhXLsuvzlK"
      },
      "source": [
        "Sintaxe do comando `?` em C:"
      ]
    },
    {
      "cell_type": "markdown",
      "metadata": {
        "id": "nmpr9kydv8JE"
      },
      "source": [
        "\n",
        "\n",
        "```\n",
        "condição ? expressão_1:expressão_2\n",
        "```\n",
        "\n"
      ]
    },
    {
      "cell_type": "markdown",
      "metadata": {
        "id": "VXo2xrMsxV9g"
      },
      "source": [
        "Quando a condição for verdadeira, a `expressao_1` é executada."
      ]
    },
    {
      "cell_type": "markdown",
      "metadata": {
        "id": "mBasHfQGxblM"
      },
      "source": [
        "Quando a condição for falsa, a `expressao_2` é executada."
      ]
    },
    {
      "cell_type": "markdown",
      "metadata": {
        "id": "NinnNhI0xiI9"
      },
      "source": [
        "Além de ser executada, o comando `?` retorna o valor da expressão executada. Exemplo:"
      ]
    },
    {
      "cell_type": "markdown",
      "metadata": {
        "id": "iKGw-sgcxtbw"
      },
      "source": [
        "```\n",
        "valor = condição ? expressão_1:expressão_2\n",
        "```\n"
      ]
    },
    {
      "cell_type": "markdown",
      "metadata": {
        "id": "WJAX8QfUwknW"
      },
      "source": [
        "O código abaixo:\n",
        "\n",
        "```\n",
        "if (x>0)\n",
        "  x+=1\n",
        "else\n",
        "  x-=1\n",
        "```\n",
        "\n",
        "Poderia ser substituído pelo código:\n",
        "\n",
        "```\n",
        "(x>0)?x+=1:x-=1;\n",
        "```\n",
        "\n",
        "\n",
        "\n"
      ]
    },
    {
      "cell_type": "markdown",
      "metadata": {
        "id": "uWcga8CPxEOF"
      },
      "source": [
        "Comentários sobre o operador `?`:\n",
        "\n",
        "\n",
        "\n",
        "*   O operador `?` é limitado e não atende a muitos casos.\n",
        "*   É usado para simplificar expressões mais complicadas.\n",
        "\n"
      ]
    },
    {
      "cell_type": "markdown",
      "metadata": {
        "id": "_lfOcAJYwECa"
      },
      "source": [
        "O exemplo do código acima que testa se um número é par ou ímpar poderia ser escrito da seguinte forma:"
      ]
    },
    {
      "cell_type": "code",
      "metadata": {
        "colab": {
          "base_uri": "https://localhost:8080/"
        },
        "id": "XoRsQtfnwRKX",
        "outputId": "4e8f8e85-57e2-451f-8af3-880172cf2d09"
      },
      "source": [
        "%%writefile exemplo3-aula4.c\n",
        "#include <stdio.h>\n",
        "\n",
        "int main() {\n",
        "    int num;\n",
        "    scanf(\"%d\", &num);\n",
        "    (num%2==0)?printf(\"%d é par.\", num):printf(\"%d é ímpar.\", num);\n",
        "    return 0;\n",
        "}"
      ],
      "execution_count": null,
      "outputs": [
        {
          "output_type": "stream",
          "text": [
            "Writing exemplo3-aula4.c\n"
          ],
          "name": "stdout"
        }
      ]
    },
    {
      "cell_type": "code",
      "metadata": {
        "colab": {
          "base_uri": "https://localhost:8080/"
        },
        "id": "cOV8MeRLwdJT",
        "outputId": "32856e6e-f563-4f23-9df9-cec4b170f8d4"
      },
      "source": [
        "%%shell\n",
        "gcc exemplo3-aula4.c -o exemplo3-aula4\n",
        "./exemplo3-aula4"
      ],
      "execution_count": null,
      "outputs": [
        {
          "output_type": "stream",
          "text": [
            "53\n",
            "53 é ímpar."
          ],
          "name": "stdout"
        },
        {
          "output_type": "execute_result",
          "data": {
            "text/plain": [
              ""
            ]
          },
          "metadata": {
            "tags": []
          },
          "execution_count": 10
        }
      ]
    },
    {
      "cell_type": "markdown",
      "metadata": {
        "id": "6cr4mzXIT_dd"
      },
      "source": [
        "## Comando `if` aninhado"
      ]
    },
    {
      "cell_type": "markdown",
      "metadata": {
        "id": "8wDgtdDpUEkc"
      },
      "source": [
        "O comando `if` aninhado ocorre quanto existe um `if` dentro do bloco de outro comando `if`."
      ]
    },
    {
      "cell_type": "markdown",
      "metadata": {
        "id": "pY4ruNdeUUhe"
      },
      "source": [
        "Sintaxe do comando `if` aninhado:"
      ]
    },
    {
      "cell_type": "markdown",
      "metadata": {
        "id": "mtoDSiPeUZLi"
      },
      "source": [
        "```\n",
        "if (condição 1) {\n",
        "  lista de instruções;\n",
        "}\n",
        "else {\n",
        "  if (condição 2) {\n",
        "    lista de instruções;\n",
        "  }\n",
        "  else {\n",
        "    lista de instruções;\n",
        "  }\n",
        "}\n",
        "```\n"
      ]
    },
    {
      "cell_type": "markdown",
      "metadata": {
        "id": "7EBdwvbqVEWq"
      },
      "source": [
        "O exemplo abaixo mostra um código que testa se um número digitado é positivo, negativo ou neutro."
      ]
    },
    {
      "cell_type": "code",
      "metadata": {
        "colab": {
          "base_uri": "https://localhost:8080/"
        },
        "id": "j0199IipVK_N",
        "outputId": "5b7b0405-b841-4798-8e48-9af22c2b4094"
      },
      "source": [
        "%%writefile exemplo4-aula4.c\n",
        "#include <stdio.h>\n",
        "\n",
        "int main() {\n",
        "    int num;\n",
        "    scanf(\"%d\", &num);\n",
        "    if (num>0) {\n",
        "        printf(\"%d é positivo.\", num);\n",
        "    }\n",
        "    else {\n",
        "        if (num < 0) {\n",
        "            printf (\"%d é negativo\", num);\n",
        "        }\n",
        "        else {\n",
        "          printf(\"%d é neutro.\", num);          \n",
        "        }\n",
        "    }\n",
        "    return 0;\n",
        "}"
      ],
      "execution_count": null,
      "outputs": [
        {
          "output_type": "stream",
          "text": [
            "Writing exemplo4-aula4.c\n"
          ],
          "name": "stdout"
        }
      ]
    },
    {
      "cell_type": "code",
      "metadata": {
        "colab": {
          "base_uri": "https://localhost:8080/"
        },
        "id": "TEx4ugZ-VcGM",
        "outputId": "a5a97c7b-1e4c-4339-8a95-a10d8a43d822"
      },
      "source": [
        "%%shell\n",
        "gcc exemplo4-aula4.c -o exemplo4-aula4\n",
        "./exemplo4-aula4"
      ],
      "execution_count": null,
      "outputs": [
        {
          "output_type": "stream",
          "text": [
            "53\n",
            "53 é positivo."
          ],
          "name": "stdout"
        },
        {
          "output_type": "execute_result",
          "data": {
            "text/plain": [
              ""
            ]
          },
          "metadata": {
            "tags": []
          },
          "execution_count": 3
        }
      ]
    },
    {
      "cell_type": "markdown",
      "metadata": {
        "id": "hdVhLezVVj03"
      },
      "source": [
        "## Comando `switch`"
      ]
    },
    {
      "cell_type": "markdown",
      "metadata": {
        "id": "8c1fnfJSVmlX"
      },
      "source": [
        "O comando `switch` realiza vários testes de valores sobre o conteúdo de uma mesma variável."
      ]
    },
    {
      "cell_type": "markdown",
      "metadata": {
        "id": "_6NBBE7dVutE"
      },
      "source": [
        "É uma forma de simplificar a comparação quando avaliamos uma única variável. "
      ]
    },
    {
      "cell_type": "markdown",
      "metadata": {
        "id": "TQa7cIpDV0jB"
      },
      "source": [
        "Evita o uso excessivo de `if`s aninhados."
      ]
    },
    {
      "cell_type": "markdown",
      "metadata": {
        "id": "E9ZVLzagWKnM"
      },
      "source": [
        "Sintaxe do comando `switch`:"
      ]
    },
    {
      "cell_type": "markdown",
      "metadata": {
        "id": "5qs2JS5lWRpv"
      },
      "source": [
        "```\n",
        "switch (variável) {\n",
        "  case valor1:\n",
        "    lista de comandos;\n",
        "    break;\n",
        "  case valor2:\n",
        "    lista de comandos;\n",
        "    break;\n",
        "  ...\n",
        "  default:\n",
        "    lista de comandos;\n",
        "}\n",
        "```\n"
      ]
    },
    {
      "cell_type": "markdown",
      "metadata": {
        "id": "uISFzN_OWwpe"
      },
      "source": [
        "O comando `break` indica o término da execução do bloco."
      ]
    },
    {
      "cell_type": "markdown",
      "metadata": {
        "id": "M6tEJ30lXDJP"
      },
      "source": [
        "Se não houver o comando `break`, então a execução continuará nos demais blocos."
      ]
    },
    {
      "cell_type": "markdown",
      "metadata": {
        "id": "ewG3qHvFW3pN"
      },
      "source": [
        "O comando `default` precede a uma lista de instruções que será executada se nenhum caso ocorrer."
      ]
    },
    {
      "cell_type": "markdown",
      "metadata": {
        "id": "6cCDIgNLXZVR"
      },
      "source": [
        "O exemplo abaixo mostra um código que retorna o dia da semana conforme o valor digitado pelo usuário."
      ]
    },
    {
      "cell_type": "code",
      "metadata": {
        "colab": {
          "base_uri": "https://localhost:8080/"
        },
        "id": "MVpbKVIFXWJS",
        "outputId": "e974fc02-5258-45e3-dd26-be7d4b5f07a2"
      },
      "source": [
        "%%writefile exemplo5-aula4.c\n",
        "\n",
        "#include <stdio.h>\n",
        "\n",
        "int main () {\n",
        "  int valor;\n",
        "\n",
        "  printf (\"Digite um valor de 1 a 7: \");\n",
        "  scanf(\"%d\", &valor);\n",
        "\n",
        "  switch ( valor ) {\n",
        "    case 1 :\n",
        "      printf (\"Domingo\\n\");\n",
        "      break;\n",
        "\n",
        "    case 2 :\n",
        "      printf (\"Segunda\\n\");\n",
        "      break;\n",
        "\n",
        "    case 3 :\n",
        "      printf (\"Terça\\n\");\n",
        "      break;\n",
        "\n",
        "    case 4 :\n",
        "      printf (\"Quarta\\n\");\n",
        "    break;\n",
        "\n",
        "    case 5 :\n",
        "      printf (\"Quinta\\n\");\n",
        "      break;\n",
        "\n",
        "    case 6 :\n",
        "      printf (\"Sexta\\n\");\n",
        "      break;\n",
        "\n",
        "    case 7 :\n",
        "      printf (\"Sábado\\n\");\n",
        "      break;\n",
        "\n",
        "    default :\n",
        "      printf (\"Valor inválido!\\n\");\n",
        "  }\n",
        "\n",
        "return 0;\n",
        "}"
      ],
      "execution_count": null,
      "outputs": [
        {
          "output_type": "stream",
          "text": [
            "Overwriting exemplo5-aula4.c\n"
          ],
          "name": "stdout"
        }
      ]
    },
    {
      "cell_type": "code",
      "metadata": {
        "colab": {
          "base_uri": "https://localhost:8080/"
        },
        "id": "uvF0NU0uX4iy",
        "outputId": "4b4c23be-9fa6-41d0-acc9-dd142bdcff53"
      },
      "source": [
        "%%shell\n",
        "gcc exemplo5-aula4.c -o exemplo5-aula4\n",
        "./exemplo5-aula4"
      ],
      "execution_count": null,
      "outputs": [
        {
          "output_type": "stream",
          "text": [
            "Digite um valor de 1 a 7: 3\n",
            "Terça\n"
          ],
          "name": "stdout"
        },
        {
          "output_type": "execute_result",
          "data": {
            "text/plain": [
              ""
            ]
          },
          "metadata": {
            "tags": []
          },
          "execution_count": 8
        }
      ]
    }
  ]
}