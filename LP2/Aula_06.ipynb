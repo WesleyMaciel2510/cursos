{
  "nbformat": 4,
  "nbformat_minor": 0,
  "metadata": {
    "colab": {
      "name": "Aula 06.ipynb",
      "provenance": [],
      "authorship_tag": "ABX9TyMaVxCydVK7iB/TMW/1ZC2t",
      "include_colab_link": true
    },
    "kernelspec": {
      "name": "python3",
      "display_name": "Python 3"
    },
    "language_info": {
      "name": "python"
    }
  },
  "cells": [
    {
      "cell_type": "markdown",
      "metadata": {
        "id": "view-in-github",
        "colab_type": "text"
      },
      "source": [
        "<a href=\"https://colab.research.google.com/github/tmelo-uea/cursos/blob/main/LP2/Aula_06.ipynb\" target=\"_parent\"><img src=\"https://colab.research.google.com/assets/colab-badge.svg\" alt=\"Open In Colab\"/></a>"
      ]
    },
    {
      "cell_type": "markdown",
      "metadata": {
        "id": "1F0lCAsg05u9"
      },
      "source": [
        "**Questão 1**. Existem números de 4 dígitos (entre 1000 e 9999) que obedecem à seguinte característica: se dividirmos o número em dois números de dois dígitos, um composto pela dezena e pela unidade, e outro pelo milhar e pela centena, somarmos estes dois novos n ́umeros gerando um terceiro, o quadrado deste terceiro n ́umero  ́e exatamente o n ́umero original de quatro dígitos.\n",
        "Por exemplo: 2025 → dividindo: 20 e 25 → somando temos 45 → 452 = 2025. Escreva um programa em C para ler um número e verificar se ele obedece a esta caracter ́ıstica. [valor 4,0]"
      ]
    },
    {
      "cell_type": "code",
      "metadata": {
        "colab": {
          "base_uri": "https://localhost:8080/"
        },
        "id": "E_BPZl1L0jRx",
        "outputId": "cba47c1d-aadd-450e-b20e-5e10a53331d3"
      },
      "source": [
        "%%writefile exemplo1-aula6.c\n",
        "#include <stdio.h>\n",
        "\n",
        "int main() {\n",
        "  int num, parte1, parte2, resultado;\n",
        "  printf(\"Digite um número: \");\n",
        "  scanf(\"%d\", &num);\n",
        "  parte1 = num / 100;\n",
        "  parte2 = num % 100;\n",
        "  resultado = (parte1 + parte2) * (parte1 + parte2);\n",
        "  if (resultado==num) \n",
        "    printf(\"O número %d segue.\", num);\n",
        "  else\n",
        "    printf(\"O número %d não segue.\", num);\n",
        "  return 0;\n",
        "}"
      ],
      "execution_count": 19,
      "outputs": [
        {
          "output_type": "stream",
          "text": [
            "Overwriting exemplo1-aula6.c\n"
          ],
          "name": "stdout"
        }
      ]
    },
    {
      "cell_type": "code",
      "metadata": {
        "colab": {
          "base_uri": "https://localhost:8080/"
        },
        "id": "IyF2HZZR1wtn",
        "outputId": "419150b7-cca1-423c-f615-646c2bba72ed"
      },
      "source": [
        "%%shell\n",
        "gcc exemplo1-aula6.c -o exemplo1-aula6\n",
        "./exemplo1-aula6"
      ],
      "execution_count": 20,
      "outputs": [
        {
          "output_type": "stream",
          "text": [
            "Digite um número: 2025\n",
            "O número 2025 segue."
          ],
          "name": "stdout"
        },
        {
          "output_type": "execute_result",
          "data": {
            "text/plain": [
              ""
            ]
          },
          "metadata": {
            "tags": []
          },
          "execution_count": 20
        }
      ]
    },
    {
      "cell_type": "markdown",
      "metadata": {
        "id": "VXtsh6gI5ZFT"
      },
      "source": [
        "**Questão 2**. Escreva um programa em C para encontrar todos os pares de numeros amigaveis entre 1 e 100000. Um par de numeros ́é amigavel quando cada um deles ́e igual à soma dos divisores do outro, com exceção do próprio numero. Os numeros 220 e 284 sao exemplos de números amigaveis. [valor 4,0]"
      ]
    },
    {
      "cell_type": "code",
      "metadata": {
        "colab": {
          "base_uri": "https://localhost:8080/"
        },
        "id": "2kJyhMNh5ehr",
        "outputId": "698f3d58-9b1c-4097-c9e1-a28987dbbf97"
      },
      "source": [
        "%%writefile exemplo2-aula6.c\n",
        "#include <stdio.h>\n",
        "\n",
        "int main() {\n",
        "  int soma1, soma2, valor1, valor2;\n",
        "  for (int num1 = 1; num1 <= 100000; num1++) {\n",
        "      for (int num2 = 1; num2 <= num1; num2++) {\n",
        "          soma1 = 0;\n",
        "          for (int i = 1; i < num1; i++){\n",
        "              if (num1 % i == 0)\n",
        "                soma1+=i;\n",
        "          }          \n",
        "          soma2 = 0;\n",
        "          for (int j = 1; j < num2; j++){\n",
        "              if (num2 % j == 0)\n",
        "                soma2+=j;\n",
        "          }\n",
        "          if ((num1==soma2) && (num2==soma1))\n",
        "            printf(\"%d e %d são amigáveis.\\n\", num1, num2);          \n",
        "      }\n",
        "  }\n",
        "  return 0;\n",
        "}"
      ],
      "execution_count": 57,
      "outputs": [
        {
          "output_type": "stream",
          "text": [
            "Overwriting exemplo2-aula6.c\n"
          ],
          "name": "stdout"
        }
      ]
    },
    {
      "cell_type": "code",
      "metadata": {
        "id": "O9iX2w245hX-"
      },
      "source": [
        "%%shell\n",
        "gcc exemplo2-aula6.c -o exemplo2-aula6\n",
        "./exemplo2-aula6"
      ],
      "execution_count": null,
      "outputs": []
    },
    {
      "cell_type": "markdown",
      "metadata": {
        "id": "vyW73YHFVp3L"
      },
      "source": [
        "6 e 6 são amigáveis.\n",
        "\n",
        "28 e 28 são amigáveis.\n",
        "\n",
        "284 e 220 são amigáveis.\n",
        "\n",
        "496 e 496 são amigáveis.\n",
        "\n",
        "1210 e 1184 são amigáveis.\n",
        "\n",
        "2924 e 2620 são amigáveis.\n",
        "\n",
        "5564 e 5020 são amigáveis.\n",
        "\n",
        "6368 e 6232 são amigáveis.\n",
        "\n",
        "8128 e 8128 são amigáveis.\n",
        "\n",
        "10856 e 10744 são amigáveis.\n",
        "\n",
        "14595 e 12285 são amigáveis.\n",
        "\n",
        "18416 e 17296 são amigáveis."
      ]
    },
    {
      "cell_type": "markdown",
      "metadata": {
        "id": "rYZaiYc3NDTT"
      },
      "source": [
        "6 e 6 são amigáveis.\n",
        "28 e 28 são amigáveis.\n",
        "220 e 284 são amigáveis.\n",
        "284 e 220 são amigáveis.\n",
        "496 e 496 são amigáveis."
      ]
    }
  ]
}