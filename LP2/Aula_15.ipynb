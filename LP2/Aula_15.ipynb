{
  "nbformat": 4,
  "nbformat_minor": 0,
  "metadata": {
    "colab": {
      "name": "Aula 15.ipynb",
      "provenance": [],
      "collapsed_sections": [],
      "authorship_tag": "ABX9TyONcTZyQKBqpc0ZJdLuDqn/",
      "include_colab_link": true
    },
    "kernelspec": {
      "name": "python3",
      "display_name": "Python 3"
    },
    "language_info": {
      "name": "python"
    }
  },
  "cells": [
    {
      "cell_type": "markdown",
      "metadata": {
        "id": "view-in-github",
        "colab_type": "text"
      },
      "source": [
        "<a href=\"https://colab.research.google.com/github/tmelo-uea/cursos/blob/main/LP2/Aula_15.ipynb\" target=\"_parent\"><img src=\"https://colab.research.google.com/assets/colab-badge.svg\" alt=\"Open In Colab\"/></a>"
      ]
    },
    {
      "cell_type": "markdown",
      "metadata": {
        "id": "xEmf8KnJn_X1"
      },
      "source": [
        "**Questão 1**. Considere que foi definida a seguinte estrutura:\n",
        "\n",
        "```\n",
        "typedef struct EstruturaFracao {\n",
        "  int numerador, denominador;\n",
        "} Fracao;\n",
        "```\n",
        "\n",
        "Escreva um programa em C que calcule a operação de soma usando a estrutura do tipo FRACAO. O programa deve ler duas frações e imprimir o resultado da operação. [valor 5,0]\n"
      ]
    },
    {
      "cell_type": "code",
      "metadata": {
        "colab": {
          "base_uri": "https://localhost:8080/"
        },
        "id": "Frb18iEfoqHj",
        "outputId": "14aa23c2-1af5-4087-9ed5-d80f4df90155"
      },
      "source": [
        "%%writefile exemplo1-aula15.c\n",
        "#include <stdio.h>\n",
        "\n",
        "typedef struct EstruturaFracao {\n",
        "    int numerador, denominador;\n",
        "} Fracao;\n",
        "\n",
        "int main () {\n",
        "  Fracao frac1, frac2;\n",
        "  float numerador1, numerador2;\n",
        "  int denominador;\n",
        "\n",
        "  scanf(\"%d\", &frac1.numerador);\n",
        "  scanf(\"%d\", &frac1.denominador);\n",
        "\n",
        "  scanf(\"%d\", &frac2.numerador);\n",
        "  scanf(\"%d\", &frac2.denominador);\n",
        "\n",
        "  denominador = frac1.denominador * frac2.denominador;\n",
        "  numerador1 = denominador / (float) frac1.denominador * frac1.numerador;\n",
        "  numerador2 = denominador / (float) frac2.denominador * frac2.numerador;\n",
        "\n",
        "  printf (\"Resultado: %f\", (numerador1 + numerador2)/denominador);\n",
        "\n",
        "\treturn 0;\n",
        "}"
      ],
      "execution_count": null,
      "outputs": [
        {
          "output_type": "stream",
          "text": [
            "Overwriting exemplo1-aula15.c\n"
          ],
          "name": "stdout"
        }
      ]
    },
    {
      "cell_type": "code",
      "metadata": {
        "colab": {
          "base_uri": "https://localhost:8080/"
        },
        "id": "OG6kG7uQotAt",
        "outputId": "2f106968-391d-42ad-81f8-04b3d8b9fbc7"
      },
      "source": [
        "%%shell\n",
        "gcc exemplo1-aula15.c -o exemplo1-aula15\n",
        "./exemplo1-aula15"
      ],
      "execution_count": null,
      "outputs": [
        {
          "output_type": "stream",
          "text": [
            "2\n",
            "3\n",
            "3\n",
            "5\n",
            "Resultado: 1.266667"
          ],
          "name": "stdout"
        },
        {
          "output_type": "execute_result",
          "data": {
            "text/plain": [
              ""
            ]
          },
          "metadata": {
            "tags": []
          },
          "execution_count": 31
        }
      ]
    },
    {
      "cell_type": "markdown",
      "metadata": {
        "id": "wYDg1TykoQZ-"
      },
      "source": [
        "**Questão 2**. Escreva um programa em C que leia uma palavra digitada pelo usuário e grave essa palavra com apenas as consoantes em um arquivo texto. Portanto, as vogais devem ser removidas antes da gravação da palavra no arquivo. [valor 5,0]"
      ]
    },
    {
      "cell_type": "code",
      "metadata": {
        "colab": {
          "base_uri": "https://localhost:8080/"
        },
        "id": "P3k3J394vhS_",
        "outputId": "f4dfcd6b-68eb-4b5b-fc35-5245ed33b2f1"
      },
      "source": [
        "%%writefile exemplo2-aula15.c\n",
        "#include <stdio.h>\n",
        "#include <string.h>\n",
        "\n",
        "int main () {\n",
        "  FILE *ptr;\n",
        "  char palavra[20];\n",
        "  char palavra_saida[20];\n",
        "  int tamanho, pos;\n",
        "\n",
        "  ptr = fopen(\"saida.txt\", \"w\");\n",
        "\n",
        "  if(ptr == NULL) {\n",
        "    printf(\"Erro na abertura do arquivo!\");\n",
        "    return 1;\n",
        "  }\n",
        "\n",
        "  printf (\"Digite uma palavra:\");\n",
        "  scanf (\"%s\", palavra);\n",
        "\n",
        "  tamanho = strlen(palavra);\n",
        "  pos = 0;\n",
        "  for (int i=0;i<tamanho;i++) {\n",
        "    if (palavra[i]!='a' && palavra[i]!='e' && palavra[i]!='i' && palavra[i]!='o' && palavra[i]!='u') {\n",
        "      palavra_saida[pos] = palavra[i];\n",
        "      pos+=1;        \n",
        "    }\n",
        "  }\n",
        "\n",
        "  palavra_saida[pos] = '\\0';\n",
        "  printf(\"%s\", palavra_saida);\n",
        "  fprintf (ptr, \"%s\", palavra_saida);\n",
        "\n",
        "  fclose(ptr);\n",
        "\n",
        "  printf (\"Arquivo criado com sucesso\");\n",
        "\n",
        "\treturn 0;\n",
        "}"
      ],
      "execution_count": null,
      "outputs": [
        {
          "output_type": "stream",
          "text": [
            "Overwriting exemplo2-aula15.c\n"
          ],
          "name": "stdout"
        }
      ]
    },
    {
      "cell_type": "code",
      "metadata": {
        "colab": {
          "base_uri": "https://localhost:8080/"
        },
        "id": "Ey2U8w28vjOk",
        "outputId": "d4308888-2a64-402f-94b6-5646a69f64e6"
      },
      "source": [
        "%%shell\n",
        "gcc exemplo2-aula15.c -o exemplo2-aula15\n",
        "./exemplo2-aula15"
      ],
      "execution_count": null,
      "outputs": [
        {
          "output_type": "stream",
          "text": [
            "Digite uma palavra:casarao\n",
            "csrArquivo criado com sucesso"
          ],
          "name": "stdout"
        },
        {
          "output_type": "execute_result",
          "data": {
            "text/plain": [
              ""
            ]
          },
          "metadata": {
            "tags": []
          },
          "execution_count": 16
        }
      ]
    }
  ]
}