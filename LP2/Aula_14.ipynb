{
  "nbformat": 4,
  "nbformat_minor": 0,
  "metadata": {
    "colab": {
      "name": "Aula 14.ipynb",
      "provenance": [],
      "authorship_tag": "ABX9TyO3GMJj34B4MOJuBXbjHSll",
      "include_colab_link": true
    },
    "kernelspec": {
      "name": "python3",
      "display_name": "Python 3"
    },
    "language_info": {
      "name": "python"
    }
  },
  "cells": [
    {
      "cell_type": "markdown",
      "metadata": {
        "id": "view-in-github",
        "colab_type": "text"
      },
      "source": [
        "<a href=\"https://colab.research.google.com/github/tmelo-uea/cursos/blob/main/LP2/Aula_14.ipynb\" target=\"_parent\"><img src=\"https://colab.research.google.com/assets/colab-badge.svg\" alt=\"Open In Colab\"/></a>"
      ]
    },
    {
      "cell_type": "markdown",
      "metadata": {
        "id": "4T3Kzy2rw5Ta"
      },
      "source": [
        "#Arquivos"
      ]
    },
    {
      "cell_type": "markdown",
      "metadata": {
        "id": "XZpse9qwys5e"
      },
      "source": [
        "## Introdução"
      ]
    },
    {
      "cell_type": "markdown",
      "metadata": {
        "id": "ck2gYSU7xReT"
      },
      "source": [
        "O uso de arquivos permite gravar os dados de maneira permanente no computador."
      ]
    },
    {
      "cell_type": "markdown",
      "metadata": {
        "id": "pFJDh5Zcxaun"
      },
      "source": [
        "A Linguagem C trata os arquivos com uma sequência de *bytes*."
      ]
    },
    {
      "cell_type": "markdown",
      "metadata": {
        "id": "GdFUzzT0xiq1"
      },
      "source": [
        "Tipos de arquivos:\n",
        "\n",
        "\n",
        "*   Arquivo texto\n",
        "  * São arquivos que armazenam caracteres que podem ser exibidos diretamente na tela do computador ou através de um editor de texto.\n",
        "  * Exemplos: documentos de textou ou arquivos XML.\n",
        "*   Arquivo binário\n",
        "  *  São arquivos que armazenam uma sequência de bits que obedecem às regras do programa que os criou. \n",
        "  * Exemplos: programas executáveis ou arquivos em extensão \".doc\".\n",
        "\n"
      ]
    },
    {
      "cell_type": "markdown",
      "metadata": {
        "id": "32sfbdT7yp4h"
      },
      "source": [
        "##Ponteiros para Arquivos"
      ]
    },
    {
      "cell_type": "markdown",
      "metadata": {
        "id": "Dgxsyy1ayusa"
      },
      "source": [
        "Em C, a arquivo é manipulado através de um ponteiro especial para o arquivo.\n",
        "\n",
        "O objetivo deste ponteiro é *apontar* o endereço (localização) de um registro."
      ]
    },
    {
      "cell_type": "markdown",
      "metadata": {
        "id": "E6vTh3ARy9tk"
      },
      "source": [
        "Sintaxe:\n",
        "\n",
        "```\n",
        "FILE <*ponteiro>\n",
        "```\n",
        "\n"
      ]
    },
    {
      "cell_type": "markdown",
      "metadata": {
        "id": "qgbxIBXWzEgi"
      },
      "source": [
        "O tipo `FILE` está definido na biblioteca `stdio.h`.\n",
        "\n",
        "Exemplo:\n",
        "\n",
        "`FILE *ptr;`\n",
        "\n",
        "Deve-se lembrar que `FILE` deve ser escrito em letras MAIÚSCULAS."
      ]
    },
    {
      "cell_type": "markdown",
      "metadata": {
        "id": "uzDwRXdtzXbE"
      },
      "source": [
        "## Operações em Arquivos"
      ]
    },
    {
      "cell_type": "markdown",
      "metadata": {
        "id": "6RrIvXpuze-f"
      },
      "source": [
        "Existem três principais operações em arquivos:\n",
        "\n",
        "1.   Abertura de arquivos.\n",
        "2.   Manipulação de arquivos.\n",
        "3.   Fechamento de arquivos."
      ]
    },
    {
      "cell_type": "markdown",
      "metadata": {
        "id": "kf859DELzrvt"
      },
      "source": [
        "## Abertura de Arquivos"
      ]
    },
    {
      "cell_type": "markdown",
      "metadata": {
        "id": "SsvI88mHzyqj"
      },
      "source": [
        "A primeira operação para lidar com arquivos em C é a abertura/criação dos arquivos.\n",
        "\n",
        "Sintaxe:\n",
        "\n",
        "```\n",
        "ptr = fopen (\"<nome do arquivo>\", \"<tipo de abertura>\");\n",
        "```\n"
      ]
    },
    {
      "cell_type": "markdown",
      "metadata": {
        "id": "YzhIBqJs0MtD"
      },
      "source": [
        "Para o nome do arquivo, pode utilizar o nome simples ou absoluto.\n",
        "\n",
        "'saida.txt' seria um exemplo de nome simples e '/home/tiago/saida.txt' seria um exemplo de nome absoluto dos arquivos."
      ]
    },
    {
      "cell_type": "markdown",
      "metadata": {
        "id": "OCek_jCu0cJy"
      },
      "source": [
        "Tipos de abertura dos arquivos:\n",
        "\n",
        "\n",
        "\n",
        "*   **r**: Permissão somente de leitura (r = *read*). É necessário que o arquivo já exista no computador (disco).\n",
        "*   **w**: Permissão para escrita (gravação) (w = *write*). Esta permissão cria o arquivo, mesmo que ele já exista no computador (disco). Portanto, essa permissão sobreescreve o arquivo pré-existente.\n",
        "*   **a**: Permissão para escrita (gravação) (a = *append*). Esta permissão grava o novo conteúdo ao final do arquivo. Se o arquivo não existir, a permissão cria um novo arquivo.\n"
      ]
    },
    {
      "cell_type": "code",
      "metadata": {
        "colab": {
          "base_uri": "https://localhost:8080/"
        },
        "id": "0Vr4QCL4w--s",
        "outputId": "606e01df-12bc-4a9a-876e-04e093c11020"
      },
      "source": [
        "%%writefile exemplo1-aula14.c\n",
        "#include <stdio.h>\n",
        "\n",
        "int main () {\n",
        "  FILE *ptr;\n",
        "\n",
        "  ptr = fopen(\"saida.txt\", \"a\");\n",
        "\n",
        "  fclose(ptr);\n",
        "\n",
        "  printf (\"Arquivo criado com sucesso\");\n",
        "\n",
        "\treturn 0;\n",
        "}"
      ],
      "execution_count": null,
      "outputs": [
        {
          "output_type": "stream",
          "text": [
            "Overwriting exemplo1-aula14.c\n"
          ],
          "name": "stdout"
        }
      ]
    },
    {
      "cell_type": "code",
      "metadata": {
        "colab": {
          "base_uri": "https://localhost:8080/"
        },
        "id": "yfr9LHXXw3dg",
        "outputId": "3e53275a-a36d-4454-9084-013d10bc233a"
      },
      "source": [
        "%%shell\n",
        "gcc exemplo1-aula14.c -o exemplo1-aula14\n",
        "./exemplo1-aula14"
      ],
      "execution_count": null,
      "outputs": [
        {
          "output_type": "stream",
          "text": [
            "Arquivo criado com sucesso"
          ],
          "name": "stdout"
        },
        {
          "output_type": "execute_result",
          "data": {
            "text/plain": [
              ""
            ]
          },
          "metadata": {
            "tags": []
          },
          "execution_count": 7
        }
      ]
    },
    {
      "cell_type": "markdown",
      "metadata": {
        "id": "eMnchU6A2bxI"
      },
      "source": [
        "### Problemas na Abertura de Arquivos"
      ]
    },
    {
      "cell_type": "markdown",
      "metadata": {
        "id": "bwI7MZtB2e1t"
      },
      "source": [
        "Na prática, podem surgir alguns problemas na abertura de arquivos usando a Linguagem C.\n",
        "\n",
        "A seguir, alguns exemplos problemas:\n",
        "\n",
        "*   Tentar abrir um arquivo no modo de leitura, mas o arquivo não existe.\n",
        "*   Não ter permissão para ler ou gravar o arquivo.\n",
        "*   O arquivo está bloqueado por estar sendo usado por outro programa.\n",
        "\n"
      ]
    },
    {
      "cell_type": "markdown",
      "metadata": {
        "id": "iFkiI66a26Ol"
      },
      "source": [
        "Portanto, é necessário fazer um tratamento de erro/exceção referente à etapa de criação de arquivos em C.\n",
        "\n",
        "Exemplo de tratamento:\n",
        "\n",
        "```\n",
        "if (ptr == NULL) {\n",
        "  printf (\"ERRO! O arquivo não foi aberto.\");\n",
        "}\n",
        "else {\n",
        "  print (\"O arquivo foi aberto corretamente.\");\n",
        "}\n",
        "```"
      ]
    },
    {
      "cell_type": "markdown",
      "metadata": {
        "id": "gNTRPAbJ3ZW0"
      },
      "source": [
        "## Escrita de Dados"
      ]
    },
    {
      "cell_type": "markdown",
      "metadata": {
        "id": "fAH38LHr3d2B"
      },
      "source": [
        "A função `fprintf` grava dados em um arquivo.\n",
        "\n",
        "O seu funcionamento é bastante parecido com a função `printf`. A principal diferença é que a saída será para um arquivo e não mais para a tela do computador."
      ]
    },
    {
      "cell_type": "markdown",
      "metadata": {
        "id": "Q7fD1Qvx3wjQ"
      },
      "source": [
        "Sintaxe:\n",
        "\n",
        "```\n",
        "fprintf (ptr, \"%s\", <variável string>);\n",
        "```"
      ]
    },
    {
      "cell_type": "markdown",
      "metadata": {
        "id": "Px8OIWxM4JKI"
      },
      "source": [
        "O exemplo abaixo mostra um código simples para gravar o conteúdo digitado por usuário em um arquivo texto."
      ]
    },
    {
      "cell_type": "code",
      "metadata": {
        "colab": {
          "base_uri": "https://localhost:8080/"
        },
        "id": "_ifAEK864Isc",
        "outputId": "3bd7e8c4-0df2-4ca3-c39b-5f6cb964fed0"
      },
      "source": [
        "%%writefile exemplo2-aula14.c\n",
        "#include <stdio.h>\n",
        "\n",
        "int main () {\n",
        "  FILE *ptr;\n",
        "  char palavra[20];\n",
        "\n",
        "  ptr = fopen(\"saida.txt\", \"a\");\n",
        "\n",
        "  if(ptr == NULL) {\n",
        "    printf(\"Erro na abertura do arquivo!\");\n",
        "    return 1;\n",
        "  }\n",
        "\n",
        "  printf (\"Digite uma palavra:\");\n",
        "  scanf (\"%s\", palavra);\n",
        "\n",
        "  fprintf (ptr, \"%s\", palavra);\n",
        "\n",
        "  fclose(ptr);\n",
        "\n",
        "  printf (\"Arquivo criado com sucesso\");\n",
        "\n",
        "\treturn 0;\n",
        "}"
      ],
      "execution_count": null,
      "outputs": [
        {
          "output_type": "stream",
          "text": [
            "Overwriting exemplo2-aula14.c\n"
          ],
          "name": "stdout"
        }
      ]
    },
    {
      "cell_type": "code",
      "metadata": {
        "colab": {
          "base_uri": "https://localhost:8080/"
        },
        "id": "iKCjqXcp4F0u",
        "outputId": "133819b7-7668-4444-a52d-92e289548d75"
      },
      "source": [
        "%%shell\n",
        "gcc exemplo2-aula14.c -o exemplo2-aula14\n",
        "./exemplo2-aula14"
      ],
      "execution_count": null,
      "outputs": [
        {
          "output_type": "stream",
          "text": [
            "Digite uma palavra:futebol\n",
            "Arquivo criado com sucesso"
          ],
          "name": "stdout"
        },
        {
          "output_type": "execute_result",
          "data": {
            "text/plain": [
              ""
            ]
          },
          "metadata": {
            "tags": []
          },
          "execution_count": 11
        }
      ]
    },
    {
      "cell_type": "markdown",
      "metadata": {
        "id": "fUZg6W3MBIkV"
      },
      "source": [
        "## Leitura de Arquivos"
      ]
    },
    {
      "cell_type": "markdown",
      "metadata": {
        "id": "kH3-0ivUBsfB"
      },
      "source": [
        "A função `fgets()` é utilizada para leitura de strings em um arquivo texto.\n",
        "\n",
        "A função realiza a leitura dos caracteres até o final da linha quando encontra o caracter `\\n`. "
      ]
    },
    {
      "cell_type": "markdown",
      "metadata": {
        "id": "ZRETQQHlBlTE"
      },
      "source": [
        "Abaixo é apresentado um programa em C que lê o conteúdo do arquivo texto gerado previamente."
      ]
    },
    {
      "cell_type": "code",
      "metadata": {
        "colab": {
          "base_uri": "https://localhost:8080/"
        },
        "id": "56zmq_DcBN1I",
        "outputId": "a007e790-684f-47c1-a3de-f137bf2b6976"
      },
      "source": [
        "%%writefile exemplo3-aula14.c\n",
        "#include <stdio.h>\n",
        "\n",
        "int main () {\n",
        "  FILE *ptr;\n",
        "  char palavra[20];\n",
        "\n",
        "  ptr = fopen(\"saida.txt\", \"r\");\n",
        "\n",
        "  if(ptr == NULL) {\n",
        "    printf(\"Erro na abertura do arquivo!\");\n",
        "    return 1;\n",
        "  }\n",
        "\n",
        "  while(fgets(palavra, 20, ptr) != NULL)\n",
        "    printf(\"%s\", palavra);  \n",
        "\n",
        "  fclose(ptr);\n",
        "\n",
        "\treturn 0;\n",
        "}"
      ],
      "execution_count": null,
      "outputs": [
        {
          "output_type": "stream",
          "text": [
            "Overwriting exemplo3-aula14.c\n"
          ],
          "name": "stdout"
        }
      ]
    },
    {
      "cell_type": "code",
      "metadata": {
        "colab": {
          "base_uri": "https://localhost:8080/"
        },
        "id": "NU4gG3ZdBLo7",
        "outputId": "698c84d1-56aa-49aa-adba-ba34e87ece79"
      },
      "source": [
        "%%shell\n",
        "gcc exemplo3-aula14.c -o exemplo3-aula14\n",
        "./exemplo3-aula14"
      ],
      "execution_count": null,
      "outputs": [
        {
          "output_type": "stream",
          "text": [
            "futebol"
          ],
          "name": "stdout"
        },
        {
          "output_type": "execute_result",
          "data": {
            "text/plain": [
              ""
            ]
          },
          "metadata": {
            "tags": []
          },
          "execution_count": 48
        }
      ]
    },
    {
      "cell_type": "markdown",
      "metadata": {
        "id": "HNfG3gKz5VIe"
      },
      "source": [
        "## Arquivos Binários em C"
      ]
    },
    {
      "cell_type": "markdown",
      "metadata": {
        "id": "oSSMOhrZ8LS-"
      },
      "source": [
        "A tabela abaixo mostra e explica os tipos possíveis de abertura de arquivos binários em C:"
      ]
    },
    {
      "cell_type": "markdown",
      "metadata": {
        "id": "MsYA2Wqf5m4a"
      },
      "source": [
        "    | Abertura | Representação |\n",
        "    |----------|---------------|\n",
        "    | rb       | Abre um arquivo binário já existente para leitura. Caso o arquivo ainda não exista, retorna uma mensagem de erro.| \n",
        "    | w+b      | Abre um arquivo binária para gravação. Caso o arquivo já exista, este será sobrescrito.| \n",
        "    | a+b      | Abre um arquivo binário para adicionar dados. |\n",
        "    | r+b      | Abre um arquivo binário já existente para leitura e gravação. Caso o arquivo não exista, retorna um erro.|\n",
        "    | w+b      | Abre um novo arquivo binário para leitura e gravação. Caso o arquivo já exista, este será sobreescrito na gravação.|\n",
        "    | a+b      | Abre um arquivo binário para adicionar dados. Caso o arquivo não exista, este será criado um novo arquivo.|\n",
        "\n"
      ]
    },
    {
      "cell_type": "markdown",
      "metadata": {
        "id": "IMhrpoJo-Bs0"
      },
      "source": [
        "Abaixo é apresentado um exemplo de programa em C que grava o conteúdo em um arquivo binário."
      ]
    },
    {
      "cell_type": "code",
      "metadata": {
        "colab": {
          "base_uri": "https://localhost:8080/"
        },
        "id": "WMr7hLDi9OzF",
        "outputId": "773211b2-1a7c-4cff-fcb4-329115d44eb1"
      },
      "source": [
        "%%writefile exemplo4-aula14.c\n",
        "#include <stdio.h>\n",
        "#include <stdlib.h>\n",
        "\n",
        "int main () {\n",
        "  FILE *ptr;\n",
        "  char palavra[20] = \"Futebol Brasileiro\";\n",
        "\n",
        "  ptr = fopen(\"saida.bin\", \"wb\");\n",
        "\n",
        "  if(ptr == NULL) {\n",
        "    printf(\"Erro na abertura do arquivo!\");\n",
        "    return (1);\n",
        "  }\n",
        "\n",
        "  fwrite (palavra, sizeof (char), 20, ptr);\n",
        "\n",
        "  fclose(ptr);\n",
        "\n",
        "  printf (\"Arquivo criado com sucesso\");\n",
        "\n",
        "\treturn 0;\n",
        "}"
      ],
      "execution_count": null,
      "outputs": [
        {
          "output_type": "stream",
          "text": [
            "Overwriting exemplo3-aula14.c\n"
          ],
          "name": "stdout"
        }
      ]
    },
    {
      "cell_type": "code",
      "metadata": {
        "colab": {
          "base_uri": "https://localhost:8080/"
        },
        "id": "E8oz-5km9K8I",
        "outputId": "d320bd3a-298e-46c1-af1b-21bae327aaef"
      },
      "source": [
        "%%shell\n",
        "gcc -exemplo4aula14.c -o exemplo4-aula14\n",
        "./exemplo4-aula14"
      ],
      "execution_count": null,
      "outputs": [
        {
          "output_type": "stream",
          "text": [
            "Arquivo criado com sucesso"
          ],
          "name": "stdout"
        },
        {
          "output_type": "execute_result",
          "data": {
            "text/plain": [
              ""
            ]
          },
          "metadata": {
            "tags": []
          },
          "execution_count": 44
        }
      ]
    },
    {
      "cell_type": "markdown",
      "metadata": {
        "id": "l0cA8wwK-L49"
      },
      "source": [
        "Abaixo é apresentado um exemplo de programa em C que lê um arquivo binário."
      ]
    },
    {
      "cell_type": "code",
      "metadata": {
        "colab": {
          "base_uri": "https://localhost:8080/"
        },
        "id": "CiPujpHK-ZMG",
        "outputId": "6f2559fa-e524-413f-abd7-41b63975ea94"
      },
      "source": [
        "%%writefile exemplo5-aula14.c\n",
        "#include <stdio.h>\n",
        "#include <stdlib.h>\n",
        "\n",
        "int main () {\n",
        "  FILE *ptr;\n",
        "\n",
        "  char palavra [20];\n",
        "  int i = 0;\n",
        "\n",
        "  ptr = fopen(\"saida.bin\", \"rb\");\n",
        "\n",
        "  if(ptr == NULL) {\n",
        "    printf(\"Erro na abertura do arquivo!\");\n",
        "    exit (1);\n",
        "  }\n",
        "  else {\n",
        "    printf (\"Arquivo aberto com sucesso.\\n\");\n",
        "  }\n",
        "\n",
        "  fread(palavra, sizeof(palavra), 1, ptr);\n",
        "  \n",
        "  for(i = 0; i < 20; i++) {\n",
        "    printf(\"%c\", palavra[i]);\n",
        "  }\n",
        "      \n",
        "  fclose(ptr);\n",
        "\treturn 0;\n",
        "}"
      ],
      "execution_count": null,
      "outputs": [
        {
          "output_type": "stream",
          "text": [
            "Overwriting exemplo4-aula14.c\n"
          ],
          "name": "stdout"
        }
      ]
    },
    {
      "cell_type": "code",
      "metadata": {
        "colab": {
          "base_uri": "https://localhost:8080/"
        },
        "id": "RkKHU5Ak-Vn4",
        "outputId": "7405d911-00f0-484b-9250-0ee3e662633b"
      },
      "source": [
        "%%shell\n",
        "gcc exemplo5-aula14.c -o exemplo5-aula14\n",
        "./exemplo5-aula14"
      ],
      "execution_count": null,
      "outputs": [
        {
          "output_type": "stream",
          "text": [
            "Arquivo aberto com sucesso.\n",
            "Futebol Brasileiro\u0000\u0000"
          ],
          "name": "stdout"
        },
        {
          "output_type": "execute_result",
          "data": {
            "text/plain": [
              ""
            ]
          },
          "metadata": {
            "tags": []
          },
          "execution_count": 46
        }
      ]
    },
    {
      "cell_type": "markdown",
      "metadata": {
        "id": "xPXd1wvz1Z8r"
      },
      "source": [
        "## Questões de Revisão"
      ]
    },
    {
      "cell_type": "markdown",
      "metadata": {
        "id": "CGHv5spj1czZ"
      },
      "source": [
        "\n",
        "\n",
        "1.   Qual é a diferença entre as opções **a** e **w** na etapa de criação de um arquivo em C?\n",
        "2.   Explique uma situação na qual seria mais apropriado o uso de arquivos binários ao invés de arquivos do tipo texto.\n",
        "\n"
      ]
    }
  ]
}