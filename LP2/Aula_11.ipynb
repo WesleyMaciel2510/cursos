{
  "nbformat": 4,
  "nbformat_minor": 0,
  "metadata": {
    "colab": {
      "name": "Aula 11.ipynb",
      "provenance": [],
      "authorship_tag": "ABX9TyMd7GPcQyqgbYsr9A9gzcGb",
      "include_colab_link": true
    },
    "kernelspec": {
      "name": "python3",
      "display_name": "Python 3"
    },
    "language_info": {
      "name": "python"
    }
  },
  "cells": [
    {
      "cell_type": "markdown",
      "metadata": {
        "id": "view-in-github",
        "colab_type": "text"
      },
      "source": [
        "<a href=\"https://colab.research.google.com/github/tmelo-uea/cursos/blob/main/LP2/Aula_11.ipynb\" target=\"_parent\"><img src=\"https://colab.research.google.com/assets/colab-badge.svg\" alt=\"Open In Colab\"/></a>"
      ]
    },
    {
      "cell_type": "markdown",
      "metadata": {
        "id": "Qy1lMREAlMjE"
      },
      "source": [
        "#Funções"
      ]
    },
    {
      "cell_type": "markdown",
      "metadata": {
        "id": "qS2SLTDmlwIm"
      },
      "source": [
        "Função é um bloco de comandos que realiza alguma tarefa específica."
      ]
    },
    {
      "cell_type": "markdown",
      "metadata": {
        "id": "WVCBYi64mKHw"
      },
      "source": [
        "Características:\n",
        "\n",
        "*   *scanf* e *printf* são exemplos de funções disponíveis em C.\n",
        "*   A Linguagem C permite que o programador crie as suas próprias funções.\n",
        "*   A construção de um programa através das funções é um processo chamado de **modularização**.\n",
        "*   As funções podem ser agrupadas para a criação de bibliotecas específicas.\n"
      ]
    },
    {
      "cell_type": "markdown",
      "metadata": {
        "id": "7sAaQiNunFcg"
      },
      "source": [
        "Sintaxe:\n",
        "\n",
        "```\n",
        "<tipo retorno> <nome> (<lista de parâmetros>){\n",
        "  bloco de comandos;\n",
        "  retorno da função [opcional];\n",
        "}\n",
        "```\n",
        "\n"
      ]
    },
    {
      "cell_type": "markdown",
      "metadata": {
        "id": "ktZc6iUN1C1s"
      },
      "source": [
        "## Estrutura de Funções"
      ]
    },
    {
      "cell_type": "markdown",
      "metadata": {
        "id": "-IiClmG61Hq-"
      },
      "source": [
        "### Retorno"
      ]
    },
    {
      "cell_type": "markdown",
      "metadata": {
        "id": "ucigPbcf1I3g"
      },
      "source": [
        "*   Quando uma função termina, ela devolve o controle da execução do programa para a parte em que foi chamada. \n",
        "*   Ao terminar a sua execução, uma função pode ou não retornar um valor. \n",
        "*   O tipo de retorno corresponde ao tipo do valor que a função retorna.\n",
        "*   Algumas funções não retornam valor. Nesse caso, essas funções serão do tipo `void`.\n",
        "*   Por exemplo, uma função que calcula o fatorial de um número irá, necessariamente, retornar um valor. \n",
        "*   Já uma função que vai receber um valor e imprimir este valor numa frase específica não irá retornar qualquer valor. \n",
        "*   Essa é a distinção entre os conceitos de procedimentos e funções, ou seja, a diferença entre eles é que função retorna um valor, enquanto procedimento não retorna um valor."
      ]
    },
    {
      "cell_type": "markdown",
      "metadata": {
        "id": "39oR8PEO1Y6A"
      },
      "source": [
        "## Nome da Função"
      ]
    },
    {
      "cell_type": "markdown",
      "metadata": {
        "id": "cAC4W1Rv1bLg"
      },
      "source": [
        "*   Toda função precisa ter um nome. \n",
        "*   O nome da função e a sua lista de parâmetros formam a assinatura da função.\n",
        "*   Dentro de um mesmo programa não podem existir funções com iguais assinaturas. Portanto, é possível ter duas funções com nomes iguais, desde que a lista de parâmetros seja diferente.\n"
      ]
    },
    {
      "cell_type": "markdown",
      "metadata": {
        "id": "UVyg2r_81lcI"
      },
      "source": [
        "## Parâmetros"
      ]
    },
    {
      "cell_type": "markdown",
      "metadata": {
        "id": "ZGU10SCE1p3Y"
      },
      "source": [
        "*   A lista de parâmetros representa os valores que são passados para dentro da função. \n",
        "*   Esses valores são passados no momento da chamada da função. \n",
        "*   É possível a criação de funções sem parâmetros.\n",
        "*   Para criar uma função sem parâmetros: usar parênteses vazios ou colocar o termo `void` dentro dos parênteses. \n",
        "*   Caso a função tenha parâmetro, deve-se, na declaração, informar o tipo e o nome desse parâmetro. \n",
        "*   Caso a função possua vários parâmetros, cada um deve ser separado por vírgula.\n",
        "\n"
      ]
    },
    {
      "cell_type": "markdown",
      "metadata": {
        "id": "yjWl30gF2QwR"
      },
      "source": [
        "Exemplos de assinaturas de funções:\n",
        "\n",
        "*   `int fatorial (int a);`\n",
        "*   `float maior (float a, float b);`\n",
        "*   `float geraNumero ();`"
      ]
    },
    {
      "cell_type": "markdown",
      "metadata": {
        "id": "NU8OFwyt8vOz"
      },
      "source": [
        "## Fluxo da Função"
      ]
    },
    {
      "cell_type": "markdown",
      "metadata": {
        "id": "xBVq1GV681oh"
      },
      "source": [
        "A figura abaixo mostra o fluxo de funcionamento de uma função:"
      ]
    },
    {
      "cell_type": "markdown",
      "metadata": {
        "id": "bLFLZwWd8xwq"
      },
      "source": [
        "![fluxo-funcao.jpg](data:image/jpeg;base64,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)"
      ]
    },
    {
      "cell_type": "markdown",
      "metadata": {
        "id": "B3doPfg427pR"
      },
      "source": [
        "## Função `main`"
      ]
    },
    {
      "cell_type": "markdown",
      "metadata": {
        "id": "1EZmIrNy3JdE"
      },
      "source": [
        "*   `main` é a função principal de um programa em C. \n",
        "*    Na prática, isto significa que toda vez que alguém for compilar/executar um programa em C, a execução acontecerá no que estiver dentro da função `main`.\n",
        "*    O que não estiver dentro da função principal só será executado se houver uma referência (chamada) dentro da função."
      ]
    },
    {
      "cell_type": "markdown",
      "metadata": {
        "id": "hmrBRNWT3Yjz"
      },
      "source": [
        "A função `main`possui dois argumentos especiais:\n",
        "\n",
        "*   O argumento `argc` é uma variável inteira que indica quantos argumentos foram fornecidos para a função principal. Esse parâmetro terá, pelo menos, o valor igual a 1, pois o nome do programa é sempre o primeiro argumento fornecido ao programa. \n",
        "*   O argumento `argv` é um vetor de cadeias de caracteres. Todos os argumentos que são fornecidos para a função principal são representados como cadeias de caracteres e, portanto, caso sejam passados valores de outros tipos, será necessário fazer a conversão para o tipo apropriado."
      ]
    },
    {
      "cell_type": "markdown",
      "metadata": {
        "id": "X62hNWAf6fqD"
      },
      "source": [
        "## Exemplos"
      ]
    },
    {
      "cell_type": "markdown",
      "metadata": {
        "id": "oU2uEJrr6iZ6"
      },
      "source": [
        "O programa abaixo recebe dois valores inteiros como parâmetros e retorna o produto (multiplicação) deles."
      ]
    },
    {
      "cell_type": "code",
      "metadata": {
        "colab": {
          "base_uri": "https://localhost:8080/"
        },
        "id": "S2IPR7JWlK2M",
        "outputId": "61fcf8db-8075-4420-b69b-c66d15110e35"
      },
      "source": [
        "%%writefile exemplo1-aula11.c\n",
        "\n",
        "#include<stdio.h>\n",
        "\n",
        "int multiplica(int v1, int v2) {\n",
        "  int resultado;\n",
        "  resultado = v1 * v2;\n",
        "  return(resultado);\n",
        "}\n",
        "\n",
        "int main() {\n",
        "  int v1, v2, resultado;\n",
        "\n",
        "  printf(\"Digite o primeiro valor:\");\n",
        "  scanf(\"%d\", &v1);\n",
        "\n",
        "  printf(\"Digite o segundo valor:\");\n",
        "  scanf(\"%d\", &v2);\n",
        "  \n",
        "  resultado = multiplica(v1,v2);\n",
        "  \n",
        "  printf(\"Resultado = %d\\n\", resultado);\n",
        "  return 0;\n",
        "}"
      ],
      "execution_count": null,
      "outputs": [
        {
          "output_type": "stream",
          "text": [
            "Writing exemplo1-aula11.c\n"
          ],
          "name": "stdout"
        }
      ]
    },
    {
      "cell_type": "code",
      "metadata": {
        "colab": {
          "base_uri": "https://localhost:8080/"
        },
        "id": "8elEN21WlUkk",
        "outputId": "1287b34c-4009-48b2-9e24-89c28711e58e"
      },
      "source": [
        "%%shell\n",
        "gcc exemplo1-aula11.c -o exemplo1-aula11 \n",
        "./exemplo1-aula11"
      ],
      "execution_count": null,
      "outputs": [
        {
          "output_type": "stream",
          "text": [
            "Digite o primeiro valor:3\n",
            "Digite o segundo valor:5\n",
            "Resultado = 15\n"
          ],
          "name": "stdout"
        },
        {
          "output_type": "execute_result",
          "data": {
            "text/plain": [
              ""
            ]
          },
          "metadata": {
            "tags": []
          },
          "execution_count": 2
        }
      ]
    },
    {
      "cell_type": "markdown",
      "metadata": {
        "id": "6y9kpKVA73xU"
      },
      "source": [
        "O programa abaixo é uma modificação do programa anterior. A diferença é que a função não retorna um valor."
      ]
    },
    {
      "cell_type": "code",
      "metadata": {
        "colab": {
          "base_uri": "https://localhost:8080/"
        },
        "id": "sfxPm4ME7xDx",
        "outputId": "205d8081-7a18-4caf-dc16-4ea00c6d5473"
      },
      "source": [
        "%%writefile exemplo2-aula11.c\n",
        "\n",
        "#include<stdio.h>\n",
        "\n",
        "int multiplica(int v1, int v2) {\n",
        "  int resultado;\n",
        "\n",
        "  resultado = v1 * v2;\n",
        "\n",
        "  printf(\"Resultado = %d\\n\", resultado);\n",
        "}\n",
        "\n",
        "int main() {\n",
        "  int v1, v2, resultado;\n",
        "\n",
        "  printf(\"Digite o primeiro valor:\");\n",
        "  scanf(\"%d\", &v1);\n",
        "\n",
        "  printf(\"Digite o segundo valor:\");\n",
        "  scanf(\"%d\", &v2);\n",
        "  \n",
        "  multiplica(v1,v2);\n",
        "  \n",
        "  return 0;\n",
        "}"
      ],
      "execution_count": null,
      "outputs": [
        {
          "output_type": "stream",
          "text": [
            "Overwriting exemplo2-aula11.c\n"
          ],
          "name": "stdout"
        }
      ]
    },
    {
      "cell_type": "code",
      "metadata": {
        "colab": {
          "base_uri": "https://localhost:8080/"
        },
        "id": "W8SGOB9_7tVC",
        "outputId": "1a5dabd4-444f-4649-ea37-29d31af6c931"
      },
      "source": [
        "%%shell\n",
        "gcc exemplo2-aula11.c -o exemplo2-aula11 \n",
        "./exemplo2-aula11"
      ],
      "execution_count": null,
      "outputs": [
        {
          "output_type": "stream",
          "text": [
            "Digite o primeiro valor:3\n",
            "Digite o segundo valor:5\n",
            "Resultado = 15\n"
          ],
          "name": "stdout"
        },
        {
          "output_type": "execute_result",
          "data": {
            "text/plain": [
              ""
            ]
          },
          "metadata": {
            "tags": []
          },
          "execution_count": 7
        }
      ]
    }
  ]
}