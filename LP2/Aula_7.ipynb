{
  "nbformat": 4,
  "nbformat_minor": 0,
  "metadata": {
    "colab": {
      "name": "Aula 7.ipynb",
      "provenance": [],
      "collapsed_sections": [],
      "authorship_tag": "ABX9TyM02Vyd+7aVwtRsXW8fbxaa",
      "include_colab_link": true
    },
    "kernelspec": {
      "name": "python3",
      "display_name": "Python 3"
    },
    "language_info": {
      "name": "python"
    }
  },
  "cells": [
    {
      "cell_type": "markdown",
      "metadata": {
        "id": "view-in-github",
        "colab_type": "text"
      },
      "source": [
        "<a href=\"https://colab.research.google.com/github/tmelo-uea/cursos/blob/main/LP2/Aula_7.ipynb\" target=\"_parent\"><img src=\"https://colab.research.google.com/assets/colab-badge.svg\" alt=\"Open In Colab\"/></a>"
      ]
    },
    {
      "cell_type": "markdown",
      "metadata": {
        "id": "FykwvccaKp4V"
      },
      "source": [
        "#Vetores"
      ]
    },
    {
      "cell_type": "markdown",
      "metadata": {
        "id": "RKMSJwKGK2Tg"
      },
      "source": [
        "Vetores são uma estrutura **unidimensional** bastante utilizada armazenar um conjunto de valores do **mesmo tipo**, acessíveis com um **único nome** e armazenados **contiguamente na memória**."
      ]
    },
    {
      "cell_type": "markdown",
      "metadata": {
        "id": "gbT-PkurLVOu"
      },
      "source": [
        "Cada valor do vetor é acessado através do uso de índices."
      ]
    },
    {
      "cell_type": "markdown",
      "metadata": {
        "id": "rn5mO1MxLnwp"
      },
      "source": [
        "Declaração de vetor:"
      ]
    },
    {
      "cell_type": "markdown",
      "metadata": {
        "id": "E0lOEDXzLrN7"
      },
      "source": [
        "```\n",
        "<tipo variável> <nome vetor> [tamanho];\n",
        "```\n"
      ]
    },
    {
      "cell_type": "markdown",
      "metadata": {
        "id": "NRu1J4vtL2V9"
      },
      "source": [
        "Exemplo:\n",
        "\n",
        "`float notas[10];`\n",
        "\n",
        "*   A Linguagem C reservará 4 x 10 = 80 *bytes*.\n",
        "*   Os bytes são reservados de maneira contígua.\n",
        "*   A numeração dos índices sempre começa no zero.\n",
        "*   O terceiro elemento é acessado como `notas[2]`.\n",
        "\n",
        "\n"
      ]
    },
    {
      "cell_type": "markdown",
      "metadata": {
        "id": "7SmwTYo2MdMU"
      },
      "source": [
        "O exemplo abaixo mostra um código que recebe 5 valores digitados pelo usuário, preenche um vetor de igual tamanho e depois calcula a média."
      ]
    },
    {
      "cell_type": "code",
      "metadata": {
        "colab": {
          "base_uri": "https://localhost:8080/"
        },
        "id": "K5qJPnI9Jq0z",
        "outputId": "f3063aed-f66c-464d-d4a5-bf0e2500947a"
      },
      "source": [
        "%%writefile exemplo1-aula7.c\n",
        "#include <stdio.h>\n",
        "\n",
        "int main() {\n",
        "  float valor, notas[5], soma;\n",
        "  for (int i=0; i<5; i++){\n",
        "      scanf(\"%f\", &valor);\n",
        "      notas[i] = valor;\n",
        "  }\n",
        "  soma = 0;\n",
        "  for (int i=0; i<5; i++){\n",
        "      soma += notas[i];\n",
        "  }\n",
        "  printf (\"A média foi %.2f.\", soma/5);\n",
        "  return 0;\n",
        "}"
      ],
      "execution_count": 1,
      "outputs": [
        {
          "output_type": "stream",
          "text": [
            "Writing exemplo1-aula7.c\n"
          ],
          "name": "stdout"
        }
      ]
    },
    {
      "cell_type": "code",
      "metadata": {
        "colab": {
          "base_uri": "https://localhost:8080/"
        },
        "id": "6cuS2-CtKjfb",
        "outputId": "f796fd05-bd89-4dd8-ab0d-e49780386221"
      },
      "source": [
        "%%shell\n",
        "gcc exemplo1-aula7.c -o exemplo1-aula7\n",
        "./exemplo1-aula7"
      ],
      "execution_count": 2,
      "outputs": [
        {
          "output_type": "stream",
          "text": [
            "5\n",
            "6\n",
            "3\n",
            "8\n",
            "9\n",
            "A média foi 6.20."
          ],
          "name": "stdout"
        },
        {
          "output_type": "execute_result",
          "data": {
            "text/plain": [
              ""
            ]
          },
          "metadata": {
            "tags": []
          },
          "execution_count": 2
        }
      ]
    },
    {
      "cell_type": "markdown",
      "metadata": {
        "id": "RROhLC7qOcuN"
      },
      "source": [
        "Dada a declaração do vetor `notas` do exemplo, seria válido `notas[10] = 7`?"
      ]
    },
    {
      "cell_type": "markdown",
      "metadata": {
        "id": "VNGsbMBdPOE4"
      },
      "source": [
        "*   Esse comando seria válido em C, apesar de ocorrer a atribuição fora dos limites estabelecidos na declaração do vetor.\n",
        "*   Isto ocorre por que a Linguagem C não verifica se o índice que você usou está dentro dos limites válidos.\n",
        "*   Este é um cuidado que o **programador** deve tomar.\n",
        "*   Se o programador não tiver atenção com estes limites de validade para os índices, é possível ocorrer a sobreescrita de variáveis criadas previamente ou o travamento do computador.\n",
        "\n",
        "\n"
      ]
    },
    {
      "cell_type": "markdown",
      "metadata": {
        "id": "JVQmcn7QPp98"
      },
      "source": [
        "# Matrizes "
      ]
    },
    {
      "cell_type": "markdown",
      "metadata": {
        "id": "njGL4Wo7Q673"
      },
      "source": [
        "Matrizes são uma estrutura para armazenar valores em **múltiplas dimensões**. Essa é a principal diferença quando comparados com os vetores."
      ]
    },
    {
      "cell_type": "markdown",
      "metadata": {
        "id": "3ViSmI8fRXfM"
      },
      "source": [
        "Sintaxe:"
      ]
    },
    {
      "cell_type": "markdown",
      "metadata": {
        "id": "R1yiaGyzRY5w"
      },
      "source": [
        "```\n",
        "<tipo variável> <nome vetor> [linhas][colunas];\n",
        "```\n"
      ]
    },
    {
      "cell_type": "markdown",
      "metadata": {
        "id": "idCHJVgpRuY8"
      },
      "source": [
        "Características:\n",
        "\n",
        "\n",
        "\n",
        "*   O índice da esquerda referencia as linhas e o índice da direita referencia as colunas.\n",
        "*   Assim como nos vetores, os índices são valores inteiros e iniciam do valor zero.\n",
        "\n"
      ]
    },
    {
      "cell_type": "markdown",
      "metadata": {
        "id": "tSjr_PhtSk1M"
      },
      "source": [
        "O exemplo abaixo mostra um programa que lê uma matriz de tamanho 3 x 3 e imprime a quantidade de números pares."
      ]
    },
    {
      "cell_type": "code",
      "metadata": {
        "colab": {
          "base_uri": "https://localhost:8080/"
        },
        "id": "7wWrKl9pSVhW",
        "outputId": "db351c26-7c88-41bb-f5a7-2c09b86de41d"
      },
      "source": [
        "%%writefile exemplo2-aula7.c\n",
        "#include <stdio.h>\n",
        "\n",
        "int main() {\n",
        "  int mat[3][3], valor, quantidade=0;\n",
        "  \n",
        "  //Leitura dos dados\n",
        "  for (int i=0; i<3; i++){\n",
        "      for (int j=0; j<3; j++){\n",
        "        scanf(\"%d\", &valor);\n",
        "        mat[i][j] = valor;\n",
        "      }\n",
        "  }\n",
        "\n",
        "  //Percorrer e imprimir a matriz\n",
        "  for (int i=0; i<3; i++){\n",
        "      for (int j=0; j<3; j++){\n",
        "        printf (\"%d \", mat[i][j]);\n",
        "        if (mat[i][j]%2==0)\n",
        "          quantidade+=1;\n",
        "      }\n",
        "      printf (\"\\n\");\n",
        "  }\n",
        "  printf(\"Existem %d números pares na matriz.\", quantidade);\n",
        "  return 0;\n",
        "}"
      ],
      "execution_count": 3,
      "outputs": [
        {
          "output_type": "stream",
          "text": [
            "Writing exemplo2-aula7.c\n"
          ],
          "name": "stdout"
        }
      ]
    },
    {
      "cell_type": "code",
      "metadata": {
        "colab": {
          "base_uri": "https://localhost:8080/"
        },
        "id": "k7tQFr2XTMv2",
        "outputId": "9d40ab8d-8230-4dae-db74-947a4d72b770"
      },
      "source": [
        "%%shell\n",
        "gcc exemplo2-aula7.c -o exemplo2-aula7\n",
        "./exemplo2-aula7"
      ],
      "execution_count": 4,
      "outputs": [
        {
          "output_type": "stream",
          "text": [
            "3\n",
            "6\n",
            "2\n",
            "5\n",
            "4\n",
            "5\n",
            "8\n",
            "1\n",
            "4\n",
            "3 6 2 \n",
            "5 4 5 \n",
            "8 1 4 \n",
            "Existem 5 números pares na matriz."
          ],
          "name": "stdout"
        },
        {
          "output_type": "execute_result",
          "data": {
            "text/plain": [
              ""
            ]
          },
          "metadata": {
            "tags": []
          },
          "execution_count": 4
        }
      ]
    }
  ]
}