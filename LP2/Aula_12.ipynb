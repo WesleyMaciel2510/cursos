{
  "nbformat": 4,
  "nbformat_minor": 0,
  "metadata": {
    "colab": {
      "name": "Aula 12.ipynb",
      "provenance": [],
      "authorship_tag": "ABX9TyOniT1q/ZNFIWCRNPxp1ohZ",
      "include_colab_link": true
    },
    "kernelspec": {
      "name": "python3",
      "display_name": "Python 3"
    },
    "language_info": {
      "name": "python"
    }
  },
  "cells": [
    {
      "cell_type": "markdown",
      "metadata": {
        "id": "view-in-github",
        "colab_type": "text"
      },
      "source": [
        "<a href=\"https://colab.research.google.com/github/tmelo-uea/cursos/blob/main/LP2/Aula_12.ipynb\" target=\"_parent\"><img src=\"https://colab.research.google.com/assets/colab-badge.svg\" alt=\"Open In Colab\"/></a>"
      ]
    },
    {
      "cell_type": "markdown",
      "metadata": {
        "id": "FCXPXbDisCYE"
      },
      "source": [
        "**Questão 1**. Explique o que representa a operação abaixo?\n",
        "\n",
        "\n",
        "\n",
        "```\n",
        "*(p+10);\n",
        "```\n",
        "\n"
      ]
    },
    {
      "cell_type": "markdown",
      "metadata": {
        "id": "Fx2OYlemsMge"
      },
      "source": [
        "**Questão 2**. Explique o que um ponteiro, na Linguagem C, armazena. Apresente um exemplo."
      ]
    },
    {
      "cell_type": "markdown",
      "metadata": {
        "id": "B-su1450sSVZ"
      },
      "source": [
        "**Questão 3**. Considere a seguinte afirmação: *nem toda função escrita em um programa em C será executada*. Esta afirmação está correta? Justifique a sua resposta. Se necessário, apresente um exemplo."
      ]
    },
    {
      "cell_type": "markdown",
      "metadata": {
        "id": "eBAWegQvseiF"
      },
      "source": [
        "**Questão 4**. Escreva uma função em C que receba um caractere como parâmetro e retorne verdadeiro caso o caractere seja uma consoante, e falso caso contrário. Escreva o programa completo."
      ]
    },
    {
      "cell_type": "code",
      "metadata": {
        "colab": {
          "base_uri": "https://localhost:8080/"
        },
        "id": "k9j0vK9isnuh",
        "outputId": "af1dbc9d-0fe9-4450-a66a-cb144e013008"
      },
      "source": [
        "%%writefile exemplo1-aula12.c\n",
        "#include <stdio.h>\n",
        "#include <string.h>\n",
        "\n",
        "int verifica (char c) {\n",
        "    if (c=='a' || c=='e' || c=='i' || c=='o' || c=='u')\n",
        "      return 1;\n",
        "    else\n",
        "      return 0;\n",
        "}\n",
        "\n",
        "int main () {\n",
        "  char letra;\n",
        "  scanf(\"%c\", &letra);\n",
        "  if (verifica (letra) == 1)\n",
        "    printf (\"Vogal\");\n",
        "  else\n",
        "    printf (\"Consoante\");\n",
        "\treturn 0;\n",
        "}"
      ],
      "execution_count": null,
      "outputs": [
        {
          "output_type": "stream",
          "text": [
            "Writing exemplo1-aula12.c\n"
          ],
          "name": "stdout"
        }
      ]
    },
    {
      "cell_type": "code",
      "metadata": {
        "colab": {
          "base_uri": "https://localhost:8080/"
        },
        "id": "gJtrHEdpss-k",
        "outputId": "c2201b4b-770e-4dde-c867-548a5c5401b4"
      },
      "source": [
        "%%shell\n",
        "gcc exemplo1-aula12.c -o exemplo1-aula12\n",
        "./exemplo1-aula12"
      ],
      "execution_count": null,
      "outputs": [
        {
          "output_type": "stream",
          "text": [
            "b\n",
            "Consoante"
          ],
          "name": "stdout"
        },
        {
          "output_type": "execute_result",
          "data": {
            "text/plain": [
              ""
            ]
          },
          "metadata": {
            "tags": []
          },
          "execution_count": 3
        }
      ]
    }
  ]
}