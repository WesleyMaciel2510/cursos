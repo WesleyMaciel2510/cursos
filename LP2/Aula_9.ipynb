{
  "nbformat": 4,
  "nbformat_minor": 0,
  "metadata": {
    "colab": {
      "name": "Aula 9.ipynb",
      "provenance": [],
      "authorship_tag": "ABX9TyNfkose3QwoT1X+abts6Dd7",
      "include_colab_link": true
    },
    "kernelspec": {
      "name": "python3",
      "display_name": "Python 3"
    },
    "language_info": {
      "name": "python"
    }
  },
  "cells": [
    {
      "cell_type": "markdown",
      "metadata": {
        "id": "view-in-github",
        "colab_type": "text"
      },
      "source": [
        "<a href=\"https://colab.research.google.com/github/tmelo-uea/cursos/blob/main/LP2/Aula_9.ipynb\" target=\"_parent\"><img src=\"https://colab.research.google.com/assets/colab-badge.svg\" alt=\"Open In Colab\"/></a>"
      ]
    },
    {
      "cell_type": "markdown",
      "metadata": {
        "id": "eN5sYNW8y2-3"
      },
      "source": [
        "**Questão 1**. Considere o trecho de programa abaixo. O comando de impressão não está sendo executado. Reescreva esse trecho de programa corrigindo o que está errado, de modo que, ao executar o programa, o comando de impressão também seja executado corretamente: [valor 3,0]\n",
        "\n",
        "```\n",
        "char c1 [10] = \"texto\";\n",
        "char c2 [10] = \"texto\";\n",
        "if (c1==c2) {\n",
        "    printf(\"As strings \\%s e \\%s são iguais\", c1, c2);\n",
        "}\n",
        "```\n",
        "\n"
      ]
    },
    {
      "cell_type": "code",
      "metadata": {
        "colab": {
          "base_uri": "https://localhost:8080/"
        },
        "id": "SPQS5Hit7RRa",
        "outputId": "295cac36-a1ba-427a-b5fd-6470079a7477"
      },
      "source": [
        "%%writefile exemplo1-aula9.c\n",
        "#include <stdio.h>\n",
        "#include <string.h>\n",
        "\n",
        "int main () {\n",
        "  char c1 [10] = \"texto\";\n",
        "  char c2 [10] = \"texto\";\n",
        "  if (strcmp(c1, c2) == 0)\n",
        "    printf(\"As palavras são iguais.\");\n",
        "  else\n",
        "    printf(\"As palavras são diferentes.\");\n",
        "\treturn 0;\n",
        "}"
      ],
      "execution_count": 5,
      "outputs": [
        {
          "output_type": "stream",
          "text": [
            "Overwriting exemplo1-aula9.c\n"
          ],
          "name": "stdout"
        }
      ]
    },
    {
      "cell_type": "code",
      "metadata": {
        "colab": {
          "base_uri": "https://localhost:8080/"
        },
        "id": "1vZig9Nf7hyU",
        "outputId": "a6c4a195-646a-4bf9-b23d-d1b753cff440"
      },
      "source": [
        "%%shell\n",
        "gcc exemplo1-aula9.c -o exemplo1-aula9\n",
        "./exemplo1-aula9"
      ],
      "execution_count": 6,
      "outputs": [
        {
          "output_type": "stream",
          "text": [
            "As palavras são iguais."
          ],
          "name": "stdout"
        },
        {
          "output_type": "execute_result",
          "data": {
            "text/plain": [
              ""
            ]
          },
          "metadata": {
            "tags": []
          },
          "execution_count": 6
        }
      ]
    },
    {
      "cell_type": "markdown",
      "metadata": {
        "id": "UR4P4W7VzOrv"
      },
      "source": [
        "**Questão 2**. Escreva um programa em C que crie uma matriz M no formato abaixo e depois imprima essa matriz na tela. Observação: deve-se primeiramente criar a matriz e somente depois esta deverá ser exibida na tela. [valor 4,0]\n",
        "\n",
        "```\n",
        "1 \t3 \t3 \t3 \t3 \t2\n",
        "\n",
        "3 \t1 \t3 \t3 \t2 \t3\n",
        "\n",
        "3 \t3 \t1 \t2 \t3 \t3\n",
        "\n",
        "3 \t3 \t2 \t1 \t3 \t3\n",
        "\n",
        "3 \t2 \t3 \t3 \t1 \t3\n",
        "\n",
        "2 \t3 \t3 \t3 \t3 \t1\n",
        "```\n",
        "\n"
      ]
    },
    {
      "cell_type": "code",
      "metadata": {
        "colab": {
          "base_uri": "https://localhost:8080/"
        },
        "id": "ni5fHygA0nw9",
        "outputId": "960b3314-f8a1-49c6-cab1-9d070740bf9b"
      },
      "source": [
        "%%writefile exemplo2-aula9.c\n",
        "#include <stdio.h>\n",
        "\n",
        "int main() {\n",
        "  int TAM = 6;\n",
        "  int mat[TAM][TAM];\n",
        "  \n",
        "  //Percorrer e preencher a matriz\n",
        "  for (int i=0; i<TAM; i++){\n",
        "      for (int j=0; j<TAM; j++){\n",
        "          if (i==j) \n",
        "            mat[i][j]=1;\n",
        "          else if (j+i==5)\n",
        "              mat[i][j]=2;\n",
        "          else\n",
        "              mat[i][j]=3;\n",
        "      }\n",
        "  }\n",
        "\n",
        "  //Percorrer e imprimir a matriz\n",
        "  for (int i=0; i<TAM; i++){\n",
        "      for (int j=0; j<TAM; j++){\n",
        "        printf (\"%d \", mat[i][j]);\n",
        "      }\n",
        "      printf (\"\\n\");\n",
        "  }\n",
        "  return 0;\n",
        "}"
      ],
      "execution_count": 7,
      "outputs": [
        {
          "output_type": "stream",
          "text": [
            "Writing exemplo2-aula9.c\n"
          ],
          "name": "stdout"
        }
      ]
    },
    {
      "cell_type": "code",
      "metadata": {
        "colab": {
          "base_uri": "https://localhost:8080/"
        },
        "id": "r5ShL8n61IDJ",
        "outputId": "5779e96b-121d-4a27-d2f3-aed617fecd1d"
      },
      "source": [
        "%%shell\n",
        "gcc exemplo2-aula9.c -o exemplo2-aula9\n",
        "./exemplo2-aula9"
      ],
      "execution_count": 8,
      "outputs": [
        {
          "output_type": "stream",
          "text": [
            "1 3 3 3 3 2 \n",
            "3 1 3 3 2 3 \n",
            "3 3 1 2 3 3 \n",
            "3 3 2 1 3 3 \n",
            "3 2 3 3 1 3 \n",
            "2 3 3 3 3 1 \n"
          ],
          "name": "stdout"
        },
        {
          "output_type": "execute_result",
          "data": {
            "text/plain": [
              ""
            ]
          },
          "metadata": {
            "tags": []
          },
          "execution_count": 8
        }
      ]
    },
    {
      "cell_type": "markdown",
      "metadata": {
        "id": "alb__69tzVuR"
      },
      "source": [
        "**Questão 3**. Escreva um programa em C que leia uma string de até 10 caracteres e imprima o conteúdo na forma invertida. [valor 3,0]"
      ]
    },
    {
      "cell_type": "code",
      "metadata": {
        "colab": {
          "base_uri": "https://localhost:8080/"
        },
        "id": "7jFINvFmyoj4",
        "outputId": "e9dd8b05-5060-48f7-9e73-a63c3bae721a"
      },
      "source": [
        "%%writefile exemplo3-aula9.c\n",
        "#include <stdio.h>\n",
        "#include <string.h>\n",
        "\n",
        "int main() {\n",
        "  char nome[10];\n",
        "  int tamanho;\n",
        "  printf(\"Digite uma string: \");\n",
        "  fgets(nome, sizeof(nome), stdin);\n",
        "  tamanho = strlen(nome);\n",
        "  for (int i=tamanho-1;i>=0;i--){\n",
        "    printf (\"%c\", nome[i]);      \n",
        "  }\n",
        "  return 0;\n",
        "}"
      ],
      "execution_count": 9,
      "outputs": [
        {
          "output_type": "stream",
          "text": [
            "Writing exemplo3-aula9.c\n"
          ],
          "name": "stdout"
        }
      ]
    },
    {
      "cell_type": "code",
      "metadata": {
        "colab": {
          "base_uri": "https://localhost:8080/"
        },
        "id": "wAHbf-tO5C0O",
        "outputId": "e5d2d8ce-5980-4ee2-ac04-cf22f0880e23"
      },
      "source": [
        "%%shell\n",
        "gcc exemplo3-aula9.c -o exemplo3-aula9\n",
        "./exemplo3-aula9"
      ],
      "execution_count": 10,
      "outputs": [
        {
          "output_type": "stream",
          "text": [
            "Digite uma string: morada\n",
            "\n",
            "adarom"
          ],
          "name": "stdout"
        },
        {
          "output_type": "execute_result",
          "data": {
            "text/plain": [
              ""
            ]
          },
          "metadata": {
            "tags": []
          },
          "execution_count": 10
        }
      ]
    }
  ]
}