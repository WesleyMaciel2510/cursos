{
  "nbformat": 4,
  "nbformat_minor": 0,
  "metadata": {
    "colab": {
      "name": "Aula 01.ipynb",
      "provenance": [],
      "collapsed_sections": [],
      "authorship_tag": "ABX9TyP27IafgypEGP8kr2NgotON",
      "include_colab_link": true
    },
    "kernelspec": {
      "name": "python3",
      "display_name": "Python 3"
    },
    "language_info": {
      "name": "python"
    }
  },
  "cells": [
    {
      "cell_type": "markdown",
      "metadata": {
        "id": "view-in-github",
        "colab_type": "text"
      },
      "source": [
        "<a href=\"https://colab.research.google.com/github/tmelo-uea/cursos/blob/main/LP2/Aula_01.ipynb\" target=\"_parent\"><img src=\"https://colab.research.google.com/assets/colab-badge.svg\" alt=\"Open In Colab\"/></a>"
      ]
    },
    {
      "cell_type": "markdown",
      "metadata": {
        "id": "Zs-GKU5IaU2i"
      },
      "source": [
        "#Disciplina de Linguagem de Programação II"
      ]
    },
    {
      "cell_type": "markdown",
      "metadata": {
        "id": "K7fAer1_a_u4"
      },
      "source": [
        "## Ementa"
      ]
    },
    {
      "cell_type": "markdown",
      "metadata": {
        "id": "gzDU9OoKbBQS"
      },
      "source": [
        "*   Linguagem de programação C. \n",
        "*   Estrutura de um programa em C. \n",
        "*   Variáveis e constantes. \n",
        "*   Comandos de entrada e saída. \n",
        "*   Estruturas de comandos sequenciais, condicionais e de repetição. \n",
        "*   Estruturas de dados estáticas (vetores e matrizes). \n",
        "*   Ponteiros e alocação de memória. \n",
        "*   Programação estruturada e refinamentos sucessivos. \n",
        "*   Subprogramas (procedimentos e funções). \n",
        "*   Escopo das variáveis. \n",
        "*   Passagem de parâmetros."
      ]
    },
    {
      "cell_type": "markdown",
      "metadata": {
        "id": "3aMxXJSVh2xy"
      },
      "source": [
        "## Metodologia"
      ]
    },
    {
      "cell_type": "markdown",
      "metadata": {
        "id": "-I_38sH1h4V_"
      },
      "source": [
        "As aulas serão *online* e apresentadas no Google Meet (**hhexsug**)."
      ]
    },
    {
      "cell_type": "markdown",
      "metadata": {
        "id": "VVaUmD9QbnSA"
      },
      "source": [
        "## Avaliações"
      ]
    },
    {
      "cell_type": "markdown",
      "metadata": {
        "id": "PcHImwydbpzU"
      },
      "source": [
        "Realizações de provas teóricas e trabalhos práticos."
      ]
    },
    {
      "cell_type": "markdown",
      "metadata": {
        "id": "6tBnbXMJbwc-"
      },
      "source": [
        "## Bibliografia Básica"
      ]
    },
    {
      "cell_type": "markdown",
      "metadata": {
        "id": "BMVgw6N3ecvp"
      },
      "source": [
        "![capa-livroc.jpg](data:image/jpeg;base64,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)\n",
        "\n",
        "Loja: [Amazon](https://www.amazon.com.br/Programming-Language-PROGRAMMING-LANG-English-ebook/dp/B009ZUZ9FW/ref=sr_1_1?__mk_pt_BR=%C3%85M%C3%85%C5%BD%C3%95%C3%91&crid=26UMEX4ZVI4ZT&dchild=1&keywords=dennis+ritchie&qid=1619697161&s=books&sprefix=denis+ritch%2Caps%2C317&sr=1-1)."
      ]
    },
    {
      "cell_type": "markdown",
      "metadata": {
        "id": "ygErtIyeacWy"
      },
      "source": [
        "## Monitoria"
      ]
    },
    {
      "cell_type": "markdown",
      "metadata": {
        "id": "KId4US7ianG9"
      },
      "source": [
        "###Monitor"
      ]
    },
    {
      "cell_type": "markdown",
      "metadata": {
        "id": "OSWGycbpar9S"
      },
      "source": [
        "Fabricio Mady <fams.eng at uea dot edu dot br> "
      ]
    },
    {
      "cell_type": "markdown",
      "metadata": {
        "id": "DDULpdt2akIV"
      },
      "source": [
        "### Horário de atendimento:"
      ]
    },
    {
      "cell_type": "markdown",
      "metadata": {
        "id": "IB7lawgJafRo"
      },
      "source": [
        "Segunda: 10:50 às 12:30\n",
        "\n",
        "Terça: 13:00 às 14:40\n",
        "\n",
        "Quarta: 16:20 às 18:00\n",
        "\n",
        "Quinta: 13:00 às 14:40"
      ]
    },
    {
      "cell_type": "markdown",
      "metadata": {
        "id": "kBpnbfAgXLdy"
      },
      "source": [
        "# Introdução"
      ]
    },
    {
      "cell_type": "markdown",
      "metadata": {
        "id": "DYazEQmgYLY-"
      },
      "source": [
        "## Histórico\n"
      ]
    },
    {
      "cell_type": "markdown",
      "metadata": {
        "id": "NlrXpVIcXUUf"
      },
      "source": [
        "*   C nasceu na década de 70. \n",
        "*   Seu inventor, Dennis Ritchie, implementou-o pela primeira vez usando um DEC PDP-11 rodando o sistema operacional UNIX. \n",
        "*   O C é derivado de uma outra linguagem: o B, criado por Ken Thompson.\n",
        "*   O B, por sua vez, veio da linguagem BCPL, inventada por Martin Richards. \n",
        "*   C é uma linguagem de programação antiga, mas ainda bastante utilizada no meio acadêmico e profissional.\n",
        "\n"
      ]
    },
    {
      "cell_type": "markdown",
      "metadata": {
        "id": "enMexouXYiQc"
      },
      "source": [
        "## Características"
      ]
    },
    {
      "cell_type": "markdown",
      "metadata": {
        "id": "-qM9KCLIYkho"
      },
      "source": [
        "*   O C é uma linguagem de programação genérica.\n",
        "*   No curso, vamos adotar o ANSI C.\n"
      ]
    },
    {
      "cell_type": "markdown",
      "metadata": {
        "id": "92yXRCt2fJrF"
      },
      "source": [
        "#Ambiente de Desenvolvimento"
      ]
    },
    {
      "cell_type": "markdown",
      "metadata": {
        "id": "DXtUacOHfRSa"
      },
      "source": [
        "Nós utilizaremos o ambiente COLAB para desenvolvimento dos exercícios da disciplina."
      ]
    },
    {
      "cell_type": "markdown",
      "metadata": {
        "id": "JKYqNNQ2fWxW"
      },
      "source": [
        ""
      ]
    },
    {
      "cell_type": "markdown",
      "metadata": {
        "id": "66nUrI4efduA"
      },
      "source": [
        "## Roteiro Criação de Programas"
      ]
    },
    {
      "cell_type": "markdown",
      "metadata": {
        "id": "qgtz4W_SfjvA"
      },
      "source": [
        "\n",
        "\n",
        "1.   Criar um notebook (COLAB).\n",
        "2.   O comando `%%writefile` é utilizado para **salvar** (gravar) o arquivo.\n",
        "3.   Criar o código-fonte em uma célula.\n",
        "4.   O comando `%%shell` é usado para permitir **executar** o programa.\n",
        "5.   O comando ```gcc <nome-arquivo.c> -o <nome-arquivo>``` é usado para **compilar** o programa.\n",
        "6.   O comando `./<nome-arquivo>` é usado para **executar** o programa.\n",
        "\n",
        "\n"
      ]
    },
    {
      "cell_type": "markdown",
      "metadata": {
        "id": "RyC-pfx-hggH"
      },
      "source": [
        "### Exemplo de código"
      ]
    },
    {
      "cell_type": "code",
      "metadata": {
        "colab": {
          "base_uri": "https://localhost:8080/"
        },
        "id": "gdtalBLGfsS9",
        "outputId": "6d9750bb-3ab5-4c8b-928a-f14e00e9e5c1"
      },
      "source": [
        "%%writefile teste-ambiente.c\n",
        "\n",
        "#include <stdio.h>\n",
        "\n",
        "int main() {\n",
        "    printf (\"Vamos iniciar...\");\n",
        "    return 0;\n",
        "}"
      ],
      "execution_count": 10,
      "outputs": [
        {
          "output_type": "stream",
          "text": [
            "Overwriting teste-ambiente.c\n"
          ],
          "name": "stdout"
        }
      ]
    },
    {
      "cell_type": "markdown",
      "metadata": {
        "id": "pbqSpglohkzF"
      },
      "source": [
        "### Exemplo de execução"
      ]
    },
    {
      "cell_type": "code",
      "metadata": {
        "colab": {
          "base_uri": "https://localhost:8080/"
        },
        "id": "5ZuzfoXBf_qE",
        "outputId": "e08a6b97-924c-48ba-f09f-8f4ebaf76278"
      },
      "source": [
        "%%shell\n",
        "\n",
        "gcc teste-ambiente.c -o teste-ambiente\n",
        "./teste-ambiente"
      ],
      "execution_count": 11,
      "outputs": [
        {
          "output_type": "stream",
          "text": [
            "Vamos iniciar..."
          ],
          "name": "stdout"
        },
        {
          "output_type": "execute_result",
          "data": {
            "text/plain": [
              ""
            ]
          },
          "metadata": {
            "tags": []
          },
          "execution_count": 11
        }
      ]
    }
  ]
}