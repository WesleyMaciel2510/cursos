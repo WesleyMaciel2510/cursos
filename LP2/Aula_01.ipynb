{
  "nbformat": 4,
  "nbformat_minor": 0,
  "metadata": {
    "colab": {
      "name": "Aula 01.ipynb",
      "provenance": [],
      "authorship_tag": "ABX9TyOoHsQe+YyLgAoG4jZLGOvI",
      "include_colab_link": true
    },
    "kernelspec": {
      "name": "python3",
      "display_name": "Python 3"
    },
    "language_info": {
      "name": "python"
    }
  },
  "cells": [
    {
      "cell_type": "markdown",
      "metadata": {
        "id": "view-in-github",
        "colab_type": "text"
      },
      "source": [
        "<a href=\"https://colab.research.google.com/github/tmelo-uea/cursos/blob/main/LP2/Aula_01.ipynb\" target=\"_parent\"><img src=\"https://colab.research.google.com/assets/colab-badge.svg\" alt=\"Open In Colab\"/></a>"
      ]
    },
    {
      "cell_type": "markdown",
      "metadata": {
        "id": "kBpnbfAgXLdy"
      },
      "source": [
        "# Introdução"
      ]
    },
    {
      "cell_type": "markdown",
      "metadata": {
        "id": "DYazEQmgYLY-"
      },
      "source": [
        "## Histórico\n"
      ]
    },
    {
      "cell_type": "markdown",
      "metadata": {
        "id": "NlrXpVIcXUUf"
      },
      "source": [
        "*   O C nasceu na década de 70. \n",
        "*   Seu inventor, Dennis Ritchie, implementou-o pela primeira vez usando um DEC PDP-11 rodando o sistema operacional UNIX. \n",
        "*   O C é derivado de uma outra linguagem: o B, criado por Ken Thompson.\n",
        "*   O B, por sua vez, veio da linguagem BCPL, inventada por Martin Richards. \n",
        "*   C é uma linguagem de programação antiga, mas ainda bastante utilizada no meio acadêmico e profissional.\n",
        "\n"
      ]
    },
    {
      "cell_type": "markdown",
      "metadata": {
        "id": "enMexouXYiQc"
      },
      "source": [
        "## Características"
      ]
    },
    {
      "cell_type": "markdown",
      "metadata": {
        "id": "-qM9KCLIYkho"
      },
      "source": [
        "*   O C é uma linguagem de programação genérica.\n",
        "*   No curso, vamos adotar o ANSI C.\n"
      ]
    }
  ]
}