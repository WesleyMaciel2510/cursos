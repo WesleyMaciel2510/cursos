{
  "nbformat": 4,
  "nbformat_minor": 0,
  "metadata": {
    "colab": {
      "name": "Aula 8.ipynb",
      "provenance": [],
      "collapsed_sections": [],
      "authorship_tag": "ABX9TyOPrTLiyYqlDwO5dqGBRaEg",
      "include_colab_link": true
    },
    "kernelspec": {
      "name": "python3",
      "display_name": "Python 3"
    },
    "language_info": {
      "name": "python"
    }
  },
  "cells": [
    {
      "cell_type": "markdown",
      "metadata": {
        "id": "view-in-github",
        "colab_type": "text"
      },
      "source": [
        "<a href=\"https://colab.research.google.com/github/tmelo-uea/cursos/blob/main/LP2/Aula_8.ipynb\" target=\"_parent\"><img src=\"https://colab.research.google.com/assets/colab-badge.svg\" alt=\"Open In Colab\"/></a>"
      ]
    },
    {
      "cell_type": "markdown",
      "metadata": {
        "id": "IX_qeh_sUPfq"
      },
      "source": [
        "#Strings"
      ]
    },
    {
      "cell_type": "markdown",
      "metadata": {
        "id": "Vl5_8gYmUUHo"
      },
      "source": [
        "*Strings* são considerados como vetores de caracteres (`char`)."
      ]
    },
    {
      "cell_type": "markdown",
      "metadata": {
        "id": "Pgmct5ZkUfBE"
      },
      "source": [
        "Sintaxe:"
      ]
    },
    {
      "cell_type": "markdown",
      "metadata": {
        "id": "xRK3U2bKUgPj"
      },
      "source": [
        "```\n",
        "char nome_string [tamanho];\n",
        "```\n"
      ]
    },
    {
      "cell_type": "markdown",
      "metadata": {
        "id": "L7pYH7UcUngN"
      },
      "source": [
        "Características gerais de strings em C:\n",
        "\n",
        "*   O último elemento é finalizado com um **'\\0'**.\n",
        "*   Existem diversas funções úteis que manipulam strings na biblioteca padrão de C.\n",
        "*   A comparação entre duas strings deve ser realizada elemento a elemento.\n",
        "\n"
      ]
    },
    {
      "cell_type": "markdown",
      "metadata": {
        "id": "hxHzTQESVUcQ"
      },
      "source": [
        "## Função *gets*"
      ]
    },
    {
      "cell_type": "markdown",
      "metadata": {
        "id": "AEXO_nrsXIAB"
      },
      "source": [
        "A função `gets` lê uma string a partir do teclado."
      ]
    },
    {
      "cell_type": "markdown",
      "metadata": {
        "id": "vf_tamqKXM3o"
      },
      "source": [
        "Sintaxe:"
      ]
    },
    {
      "cell_type": "markdown",
      "metadata": {
        "id": "xThL1xcjXNpB"
      },
      "source": [
        "`gets (nome_string);`"
      ]
    },
    {
      "cell_type": "markdown",
      "metadata": {
        "id": "zvWm_6RzXYcp"
      },
      "source": [
        "O exemplo abaixo mostra um código onde o usuário digita um nome e depois o programa imprime o nome digitado."
      ]
    },
    {
      "cell_type": "code",
      "metadata": {
        "colab": {
          "base_uri": "https://localhost:8080/"
        },
        "id": "-HAB2AEBUNcl",
        "outputId": "a29fbeaa-702a-4c40-e954-845a6d17ffa2"
      },
      "source": [
        "%%writefile exemplo1-aula8.c\n",
        "#include <stdio.h>\n",
        "\n",
        "int main() {\n",
        "  char nome[10];\n",
        "  printf(\"Digite o seu nome: \");\n",
        "  gets(nome);\n",
        "  printf (\"O nome digitado foi %s\", nome);\n",
        "  return 0;\n",
        "}"
      ],
      "execution_count": 1,
      "outputs": [
        {
          "output_type": "stream",
          "text": [
            "Writing exemplo1-aula8.c\n"
          ],
          "name": "stdout"
        }
      ]
    },
    {
      "cell_type": "code",
      "metadata": {
        "colab": {
          "base_uri": "https://localhost:8080/"
        },
        "id": "ASmYOr20Vd3x",
        "outputId": "0d8d5f19-b92b-4a7b-e9b8-06fd380e86a8"
      },
      "source": [
        "%%shell\n",
        "gcc exemplo1-aula8.c -o exemplo1-aula8\n",
        "./exemplo1-aula8"
      ],
      "execution_count": 2,
      "outputs": [
        {
          "output_type": "stream",
          "text": [
            "\u001b[01m\u001b[Kexemplo1-aula8.c:\u001b[m\u001b[K In function ‘\u001b[01m\u001b[Kmain\u001b[m\u001b[K’:\n",
            "\u001b[01m\u001b[Kexemplo1-aula8.c:6:3:\u001b[m\u001b[K \u001b[01;35m\u001b[Kwarning: \u001b[m\u001b[Kimplicit declaration of function ‘\u001b[01m\u001b[Kgets\u001b[m\u001b[K’; did you mean ‘\u001b[01m\u001b[Kfgets\u001b[m\u001b[K’? [\u001b[01;35m\u001b[K-Wimplicit-function-declaration\u001b[m\u001b[K]\n",
            "   \u001b[01;35m\u001b[Kgets\u001b[m\u001b[K(nome);\n",
            "   \u001b[01;35m\u001b[K^~~~\u001b[m\u001b[K\n",
            "   \u001b[32m\u001b[Kfgets\u001b[m\u001b[K\n",
            "/tmp/ccmuluU9.o: In function `main':\n",
            "exemplo1-aula8.c:(.text+0x35): warning: the `gets' function is dangerous and should not be used.\n",
            "Digite o seu nome: Tiago\n",
            "O nome digitado foi Tiago"
          ],
          "name": "stdout"
        },
        {
          "output_type": "execute_result",
          "data": {
            "text/plain": [
              ""
            ]
          },
          "metadata": {
            "tags": []
          },
          "execution_count": 2
        }
      ]
    },
    {
      "cell_type": "markdown",
      "metadata": {
        "id": "TSASnRQqXjs1"
      },
      "source": [
        "O uso da função `gets` gera um aviso (*warning*) que a função é perigosa (*dangerous*) e não deveria ser utilizada."
      ]
    },
    {
      "cell_type": "markdown",
      "metadata": {
        "id": "cZplMxDfXzCf"
      },
      "source": [
        "Qual motivo do aviso?\n",
        "\n",
        "*   Para se alocar espaço para a variável, seria necessário saber o tamanho do nome previamente. \n",
        "*   Porém, não é possível garantir que o usuário irá digitar um nome com até 10 caracteres.\n",
        "*   Só é possível conhecer o tamanho através do caracter especial **'\\0'**.\n",
        "*   Por exemplo, o que aconteceria se o usuário, no exemplo acima, digitasse um nome com 20 caracteres?\n",
        "*   O comando `gets` foi utilizado como estratégia de um vírus distribuído pela Internet, onde o buffer era sobreescrito.\n",
        "*   Uma alternativa é usar o comando `fgets`.\n",
        "\n"
      ]
    },
    {
      "cell_type": "markdown",
      "metadata": {
        "id": "kmU3wxd1ZFSK"
      },
      "source": [
        "Sintaxe do comando `fgets`:"
      ]
    },
    {
      "cell_type": "markdown",
      "metadata": {
        "id": "tLopgBbUZJsQ"
      },
      "source": [
        "`char* fgets(char *str, int length, FILE * stream);`"
      ]
    },
    {
      "cell_type": "markdown",
      "metadata": {
        "id": "gOesSGUUZLvr"
      },
      "source": [
        "O exemplo abaixo é o mesmo código anterior, mas como a substituição do `gets` pelo `fgets`:"
      ]
    },
    {
      "cell_type": "code",
      "metadata": {
        "colab": {
          "base_uri": "https://localhost:8080/"
        },
        "id": "NYDUJs71W_3q",
        "outputId": "71f3c3e9-028f-4e43-fcb9-ef433001c27d"
      },
      "source": [
        "%%writefile exemplo2-aula8.c\n",
        "#include <stdio.h>\n",
        "\n",
        "int main() {\n",
        "  char nome[10];\n",
        "  printf(\"Digite o seu nome: \");\n",
        "  fgets(nome, sizeof(nome), stdin);\n",
        "  printf (\"O nome digitado foi %s\", nome);\n",
        "  return 0;\n",
        "}"
      ],
      "execution_count": 4,
      "outputs": [
        {
          "output_type": "stream",
          "text": [
            "Overwriting exemplo2-aula8.c\n"
          ],
          "name": "stdout"
        }
      ]
    },
    {
      "cell_type": "code",
      "metadata": {
        "colab": {
          "base_uri": "https://localhost:8080/"
        },
        "id": "Uvplj_tjXBEO",
        "outputId": "303e4b20-8db4-46f3-cb8d-7a9cabacee3d"
      },
      "source": [
        "%%shell\n",
        "gcc exemplo2-aula8.c -o exemplo2-aula8\n",
        "./exemplo2-aula8"
      ],
      "execution_count": 5,
      "outputs": [
        {
          "output_type": "stream",
          "text": [
            "Digite o seu nome: Tiago\n",
            "O nome digitado foi Tiago\n"
          ],
          "name": "stdout"
        },
        {
          "output_type": "execute_result",
          "data": {
            "text/plain": [
              ""
            ]
          },
          "metadata": {
            "tags": []
          },
          "execution_count": 5
        }
      ]
    },
    {
      "cell_type": "markdown",
      "metadata": {
        "id": "V8Fj7zY4aTE6"
      },
      "source": [
        "## Função *strcpy*"
      ]
    },
    {
      "cell_type": "markdown",
      "metadata": {
        "id": "Jjwh2ftJaap0"
      },
      "source": [
        "A função `strcpy` copia uma *string* de origem para uma *string* de destino."
      ]
    },
    {
      "cell_type": "markdown",
      "metadata": {
        "id": "XZv4NvPIbvWQ"
      },
      "source": [
        "Sintaxe:"
      ]
    },
    {
      "cell_type": "markdown",
      "metadata": {
        "id": "o7R2xLKLbwnA"
      },
      "source": [
        " `strcpy (string_destino, string_origem);`"
      ]
    },
    {
      "cell_type": "markdown",
      "metadata": {
        "id": "Rk1JBoM8ashx"
      },
      "source": [
        "A função está disponível na biblioteca `string.h`."
      ]
    },
    {
      "cell_type": "markdown",
      "metadata": {
        "id": "sbtiUTzgcGd2"
      },
      "source": [
        "O exemplo abaixo mostra o uso da função `strcpy`."
      ]
    },
    {
      "cell_type": "code",
      "metadata": {
        "colab": {
          "base_uri": "https://localhost:8080/"
        },
        "id": "o5v1tXZXa9md",
        "outputId": "934a7383-6ff7-45f1-8f53-d52afbfade67"
      },
      "source": [
        "%%writefile exemplo3-aula8.c\n",
        "#include <stdio.h>\n",
        "#include <string.h>\n",
        "\n",
        "int main () {\n",
        "\tchar str1[100], str2[100];\n",
        "\tprintf (\"Entre com uma string: \");\n",
        "  fgets(str1, sizeof(str1), stdin);\n",
        "\tstrcpy (str2, str1);\n",
        "\tprintf (\"Voce digitou a string %s\", str2);\n",
        "\treturn 0;\n",
        "}"
      ],
      "execution_count": 6,
      "outputs": [
        {
          "output_type": "stream",
          "text": [
            "Writing exemplo3-aula8.c\n"
          ],
          "name": "stdout"
        }
      ]
    },
    {
      "cell_type": "code",
      "metadata": {
        "colab": {
          "base_uri": "https://localhost:8080/"
        },
        "id": "uSYEoOiMbAsI",
        "outputId": "abbb4141-386e-4ab9-ec38-7966d5eff98e"
      },
      "source": [
        "%%shell\n",
        "gcc exemplo3-aula8.c -o exemplo3-aula8\n",
        "./exemplo3-aula8"
      ],
      "execution_count": 7,
      "outputs": [
        {
          "output_type": "stream",
          "text": [
            "Entre com uma string: Linguagem\n",
            "Voce digitou a string Linguagem\n"
          ],
          "name": "stdout"
        },
        {
          "output_type": "execute_result",
          "data": {
            "text/plain": [
              ""
            ]
          },
          "metadata": {
            "tags": []
          },
          "execution_count": 7
        }
      ]
    },
    {
      "cell_type": "markdown",
      "metadata": {
        "id": "zBt5EGD5cPtc"
      },
      "source": [
        "## Função *strcat*"
      ]
    },
    {
      "cell_type": "markdown",
      "metadata": {
        "id": "Xpm3BDImcW-l"
      },
      "source": [
        "A função `strcat` concatena duas *strings* em C."
      ]
    },
    {
      "cell_type": "markdown",
      "metadata": {
        "id": "alyxhEf7cpij"
      },
      "source": [
        "Sintaxe:"
      ]
    },
    {
      "cell_type": "markdown",
      "metadata": {
        "id": "qqus9aercroZ"
      },
      "source": [
        "`strcat (string_destino, string_origem);`"
      ]
    },
    {
      "cell_type": "markdown",
      "metadata": {
        "id": "mCAutlH7cyAd"
      },
      "source": [
        "A string de origem permanecerá inalterada e será anexada ao fim da string de destino."
      ]
    },
    {
      "cell_type": "code",
      "metadata": {
        "colab": {
          "base_uri": "https://localhost:8080/"
        },
        "id": "o5x7knAwdJJq",
        "outputId": "e5b87f46-5a5c-4758-d753-92660d086814"
      },
      "source": [
        "%%writefile exemplo4-aula8.c\n",
        "#include <stdio.h>\n",
        "#include <string.h>\n",
        "\n",
        "int main () {\n",
        "\tchar str1[100], str2[100];\n",
        "\tprintf (\"Entre com uma string: \");\n",
        "  fgets(str1, sizeof(str1), stdin);\n",
        "  strcpy(str2,\"A palavra digitada foi: \");\n",
        "\tstrcat (str2, str1);\n",
        "\tprintf (\"%s\", str2);\n",
        "\treturn 0;\n",
        "}"
      ],
      "execution_count": 9,
      "outputs": [
        {
          "output_type": "stream",
          "text": [
            "Overwriting exemplo4-aula8.c\n"
          ],
          "name": "stdout"
        }
      ]
    },
    {
      "cell_type": "code",
      "metadata": {
        "colab": {
          "base_uri": "https://localhost:8080/"
        },
        "id": "iLae2gQ2dLBa",
        "outputId": "6fccaa4d-a206-47bf-c2bf-3bb3264e4497"
      },
      "source": [
        "%%shell\n",
        "gcc exemplo4-aula8.c -o exemplo4-aula8\n",
        "./exemplo4-aula8"
      ],
      "execution_count": 10,
      "outputs": [
        {
          "output_type": "stream",
          "text": [
            "Entre com uma string: carro\n",
            "A palavra digitada foi: carro\n"
          ],
          "name": "stdout"
        },
        {
          "output_type": "execute_result",
          "data": {
            "text/plain": [
              ""
            ]
          },
          "metadata": {
            "tags": []
          },
          "execution_count": 10
        }
      ]
    },
    {
      "cell_type": "markdown",
      "metadata": {
        "id": "ftBG6ApF-Fs_"
      },
      "source": [
        "## Função *strlen*"
      ]
    },
    {
      "cell_type": "markdown",
      "metadata": {
        "id": "tM1CJa0l-Kki"
      },
      "source": [
        "A função `strlen` retorna o comprimento (tamanho) da string. \n",
        "\n",
        "O terminador nulo ('\\0') não será contado como caracter ao usarmos a função `gets`. Este terminador será contabilizado com a função `fgets`."
      ]
    },
    {
      "cell_type": "markdown",
      "metadata": {
        "id": "BX8oQz0u-Xao"
      },
      "source": [
        "Sintaxe:"
      ]
    },
    {
      "cell_type": "markdown",
      "metadata": {
        "id": "Z9xwwShK-YwI"
      },
      "source": [
        "`int strlen (string);`"
      ]
    },
    {
      "cell_type": "code",
      "metadata": {
        "colab": {
          "base_uri": "https://localhost:8080/"
        },
        "id": "gFx4-sai-FaJ",
        "outputId": "d0fe13b3-ca19-4c57-f253-75fbb3e7f51a"
      },
      "source": [
        "%%writefile exemplo5-aula8.c\n",
        "#include <stdio.h>\n",
        "#include <string.h>\n",
        "\n",
        "int main () {\n",
        "  int tamanho;\n",
        "\tchar palavra[] = \"terminologia\";\n",
        "  tamanho = strlen(palavra);\n",
        "\tprintf (\"A palavra %s tem %d caracteres.\", palavra, tamanho);\n",
        "\treturn 0;\n",
        "}"
      ],
      "execution_count": 11,
      "outputs": [
        {
          "output_type": "stream",
          "text": [
            "Writing exemplo5-aula8.c\n"
          ],
          "name": "stdout"
        }
      ]
    },
    {
      "cell_type": "code",
      "metadata": {
        "colab": {
          "base_uri": "https://localhost:8080/"
        },
        "id": "ph-XL6r0-hnX",
        "outputId": "8f355dcd-0c36-4a51-8036-95dec412045d"
      },
      "source": [
        "%%shell\n",
        "gcc exemplo5-aula8.c -o exemplo5-aula8\n",
        "./exemplo5-aula8"
      ],
      "execution_count": 12,
      "outputs": [
        {
          "output_type": "stream",
          "text": [
            "A palavra terminologia tem 12 caracteres."
          ],
          "name": "stdout"
        },
        {
          "output_type": "execute_result",
          "data": {
            "text/plain": [
              ""
            ]
          },
          "metadata": {
            "tags": []
          },
          "execution_count": 12
        }
      ]
    },
    {
      "cell_type": "markdown",
      "metadata": {
        "id": "3akNbsTtANXF"
      },
      "source": [
        "## Função *strcmp*"
      ]
    },
    {
      "cell_type": "markdown",
      "metadata": {
        "id": "gXWgZnZZAQMf"
      },
      "source": [
        "A função `strcmp` compara duas strings. Se as duas strings forem iguais, então a função retorna zero. Caso não sejam iguais, a função retorna um valor diferente de zero."
      ]
    },
    {
      "cell_type": "markdown",
      "metadata": {
        "id": "GzHgIM4mAbXg"
      },
      "source": [
        "Sintaxe:"
      ]
    },
    {
      "cell_type": "markdown",
      "metadata": {
        "id": "1rkckrVDAcJ6"
      },
      "source": [
        "`int strcmp (str1, str2);`"
      ]
    },
    {
      "cell_type": "code",
      "metadata": {
        "colab": {
          "base_uri": "https://localhost:8080/"
        },
        "id": "Gc1feCETAhvW",
        "outputId": "14e7094c-ad3c-4ee1-a7e0-81d1dbc93758"
      },
      "source": [
        "%%writefile exemplo6-aula8.c\n",
        "#include <stdio.h>\n",
        "#include <string.h>\n",
        "\n",
        "int main () {\n",
        "  char termo1[20], termo2[20];\n",
        "  fgets(termo1, sizeof(termo1), stdin);\n",
        "  fgets(termo2, sizeof(termo2), stdin);\n",
        "  if (strcmp(termo1, termo2) == 0)\n",
        "    printf(\"As palavras são iguais.\");\n",
        "  else\n",
        "    printf(\"As palavras são diferentes.\");\n",
        "\treturn 0;\n",
        "}"
      ],
      "execution_count": 13,
      "outputs": [
        {
          "output_type": "stream",
          "text": [
            "Writing exemplo6-aula8.c\n"
          ],
          "name": "stdout"
        }
      ]
    },
    {
      "cell_type": "code",
      "metadata": {
        "colab": {
          "base_uri": "https://localhost:8080/"
        },
        "id": "uf1FP4vkAiIQ",
        "outputId": "ef47fa41-47fc-4cbe-98c5-216130bc29d2"
      },
      "source": [
        "%%shell\n",
        "gcc exemplo6-aula8.c -o exemplo6-aula8\n",
        "./exemplo6-aula8"
      ],
      "execution_count": 15,
      "outputs": [
        {
          "output_type": "stream",
          "text": [
            "casa\n",
            "Casa\n",
            "As palavras são diferentes."
          ],
          "name": "stdout"
        },
        {
          "output_type": "execute_result",
          "data": {
            "text/plain": [
              ""
            ]
          },
          "metadata": {
            "tags": []
          },
          "execution_count": 15
        }
      ]
    }
  ]
}