{
  "nbformat": 4,
  "nbformat_minor": 0,
  "metadata": {
    "colab": {
      "name": "Aula 13.ipynb",
      "provenance": [],
      "collapsed_sections": [],
      "authorship_tag": "ABX9TyMuBddxlBQMK94PmGeygpM4",
      "include_colab_link": true
    },
    "kernelspec": {
      "name": "python3",
      "display_name": "Python 3"
    },
    "language_info": {
      "name": "python"
    }
  },
  "cells": [
    {
      "cell_type": "markdown",
      "metadata": {
        "id": "view-in-github",
        "colab_type": "text"
      },
      "source": [
        "<a href=\"https://colab.research.google.com/github/tmelo-uea/cursos/blob/main/LP2/Aula_13.ipynb\" target=\"_parent\"><img src=\"https://colab.research.google.com/assets/colab-badge.svg\" alt=\"Open In Colab\"/></a>"
      ]
    },
    {
      "cell_type": "markdown",
      "metadata": {
        "id": "KGSGnIBdrqkl"
      },
      "source": [
        "#Registros"
      ]
    },
    {
      "cell_type": "markdown",
      "metadata": {
        "id": "ZvkfdmCTrzLT"
      },
      "source": [
        "*Struct* é uma variável especial que contém diversas outras variáveis e estas variáveis podem ser de tipos diferentes."
      ]
    },
    {
      "cell_type": "markdown",
      "metadata": {
        "id": "ygNE1qQsr-O2"
      },
      "source": [
        "As variáveis contidas pela *struct* são chamadas de membros ou campos da *struct*."
      ]
    },
    {
      "cell_type": "markdown",
      "metadata": {
        "id": "12sIZkJKsHT7"
      },
      "source": [
        "Pode-se afirmar que as *structs* da Linguagem C são o correspondente ao que se denomina registros em outras linguagens de programação."
      ]
    },
    {
      "cell_type": "markdown",
      "metadata": {
        "id": "KKM5Lte_sQg4"
      },
      "source": [
        "Sintaxe 1:\n",
        "\n",
        "```\n",
        "struct <identificador>\n",
        "{\n",
        " <listagem dos tipos e membros>;\n",
        "};\n",
        "\n",
        "struct <identificador> <variavel>;\n",
        "\n",
        "```"
      ]
    },
    {
      "cell_type": "markdown",
      "metadata": {
        "id": "B9N1c7git0Yb"
      },
      "source": [
        "Sintaxe 2:\n",
        "\n",
        "```\n",
        "struct <identificador>\n",
        "{\n",
        " <listagem dos tipos e membros>;\n",
        "} var;\n",
        "```"
      ]
    },
    {
      "cell_type": "markdown",
      "metadata": {
        "id": "OPI9xkcrsbrS"
      },
      "source": [
        "Abaixo é apresentado um exemplo de declaração de uma struct:\n",
        "\n",
        "\n",
        "\n",
        "```\n",
        "struct tipo_aluno {\n",
        "  char nome[30];\n",
        "  float prova1;\n",
        "  float prova2;\n",
        "};\n",
        "\n",
        "struct tipo_aluno aluno;\n",
        "```\n",
        "\n"
      ]
    },
    {
      "cell_type": "markdown",
      "metadata": {
        "id": "m5WK0rFhst0V"
      },
      "source": [
        "No exemplo acima, nós criamos uma *struct* chamada `tipo_aluno`.\n",
        "\n",
        "A partir de agora, nós poderemos criar variáveis que sejam do `tipo_aluno`."
      ]
    },
    {
      "cell_type": "markdown",
      "metadata": {
        "id": "9uGw1Daxvzw1"
      },
      "source": [
        "Abaixo um exemplo prático de uso de estruturas em C:"
      ]
    },
    {
      "cell_type": "code",
      "metadata": {
        "colab": {
          "base_uri": "https://localhost:8080/"
        },
        "id": "zuUHI5qetim9",
        "outputId": "2f158049-4e03-42b3-8ee6-db9230ea8f64"
      },
      "source": [
        "%%writefile exemplo1-aula13.c\n",
        "#include <stdio.h>\n",
        "\n",
        "struct notas {\n",
        "    float nota1;\n",
        "    float nota2;\n",
        "};\n",
        "\n",
        "int main () {\n",
        "  struct notas n;\n",
        "  scanf(\"%f\", &n.nota1);\n",
        "  scanf(\"%f\", &n.nota2);\n",
        "\n",
        "  if (n.nota1 > n.nota2)\n",
        "    printf (\"A nota da primeira prova foi maior.\");\n",
        "  else\n",
        "    printf (\"A nota da segunda prova foi maior.\");\n",
        "\treturn 0;\n",
        "}"
      ],
      "execution_count": null,
      "outputs": [
        {
          "output_type": "stream",
          "text": [
            "Writing exemplo1-aula13.c\n"
          ],
          "name": "stdout"
        }
      ]
    },
    {
      "cell_type": "code",
      "metadata": {
        "colab": {
          "base_uri": "https://localhost:8080/"
        },
        "id": "z7MxpbS8rZFf",
        "outputId": "791383e7-bd0b-4717-f11c-bd80b1589bea"
      },
      "source": [
        "%%shell\n",
        "gcc exemplo1-aula13.c -o exemplo1-aula13\n",
        "./exemplo1-aula13"
      ],
      "execution_count": null,
      "outputs": [
        {
          "output_type": "stream",
          "text": [
            "4.5\n",
            "6.3\n",
            "A nota da segunda prova foi maior."
          ],
          "name": "stdout"
        },
        {
          "output_type": "execute_result",
          "data": {
            "text/plain": [
              ""
            ]
          },
          "metadata": {
            "tags": []
          },
          "execution_count": 2
        }
      ]
    },
    {
      "cell_type": "markdown",
      "metadata": {
        "id": "JBssK35Hv7Nq"
      },
      "source": [
        "## Comando `typedef`"
      ]
    },
    {
      "cell_type": "markdown",
      "metadata": {
        "id": "LvinFa2MwBtV"
      },
      "source": [
        "O comando `typedef` é utilizado para criar um sinônimo ou *alias* (apelido) para tipos de dados pré-existentes.\n",
        "\n",
        "É uma maneira de renomear um tipo de dados."
      ]
    },
    {
      "cell_type": "markdown",
      "metadata": {
        "id": "Xfj3LX3GwIXr"
      },
      "source": [
        "Sintaxe:\n",
        "\n",
        "```\n",
        "typedef struct <nome antigo> <nome novo>;\n",
        "```\n",
        "\n"
      ]
    },
    {
      "cell_type": "markdown",
      "metadata": {
        "id": "VJaZGUEZxGZE"
      },
      "source": [
        "O exemplo abaixo mostra como utilizar o comando `typedef` para renomear uma estrutura criada previamente:"
      ]
    },
    {
      "cell_type": "code",
      "metadata": {
        "colab": {
          "base_uri": "https://localhost:8080/"
        },
        "id": "X-m8vLoPwrJF",
        "outputId": "18fdd37c-def6-485a-ccd3-5d27905976a8"
      },
      "source": [
        "%%writefile exemplo2-aula13.c\n",
        "#include <stdio.h>\n",
        "\n",
        "struct notas {\n",
        "    float nota1;\n",
        "    float nota2;\n",
        "};\n",
        "\n",
        "int main () {\n",
        "  typedef struct notas provas;\n",
        "\n",
        "  provas n;\n",
        "\n",
        "  scanf(\"%f\", &n.nota1);\n",
        "  scanf(\"%f\", &n.nota2);\n",
        "\n",
        "  if (n.nota1 > n.nota2)\n",
        "    printf (\"A nota da primeira prova foi maior.\");\n",
        "  else\n",
        "    printf (\"A nota da segunda prova foi maior.\");\n",
        "\treturn 0;\n",
        "}"
      ],
      "execution_count": null,
      "outputs": [
        {
          "output_type": "stream",
          "text": [
            "Writing exemplo2-aula13.c\n"
          ],
          "name": "stdout"
        }
      ]
    },
    {
      "cell_type": "code",
      "metadata": {
        "colab": {
          "base_uri": "https://localhost:8080/"
        },
        "id": "2Wh3Txi0w5QZ",
        "outputId": "5826757c-e60b-41f8-9ee8-f2117b037984"
      },
      "source": [
        "%%shell\n",
        "gcc exemplo2-aula13.c -o exemplo2-aula13\n",
        "./exemplo2-aula13"
      ],
      "execution_count": null,
      "outputs": [
        {
          "output_type": "stream",
          "text": [
            "3.4\n",
            "4.5\n",
            "A nota da segunda prova foi maior."
          ],
          "name": "stdout"
        },
        {
          "output_type": "execute_result",
          "data": {
            "text/plain": [
              ""
            ]
          },
          "metadata": {
            "tags": []
          },
          "execution_count": 4
        }
      ]
    },
    {
      "cell_type": "markdown",
      "metadata": {
        "id": "aifyStf4yTVx"
      },
      "source": [
        "## Matrizes de Estruturas"
      ]
    },
    {
      "cell_type": "markdown",
      "metadata": {
        "id": "-wMjAOcgBAha"
      },
      "source": [
        "Um estrutura é como qualquer outro tipo de dados em C."
      ]
    },
    {
      "cell_type": "markdown",
      "metadata": {
        "id": "equ3TKC-BFl3"
      },
      "source": [
        "Assim, podemos construir matrizes a partir de estruturas."
      ]
    },
    {
      "cell_type": "markdown",
      "metadata": {
        "id": "JNORlfL_BJ4S"
      },
      "source": [
        "Abaixo um exemplo de estrutura de uma matriz de *notas*:\n",
        "\n",
        "`struct turma notas [100];`\n",
        "\n",
        "\n",
        "\n"
      ]
    },
    {
      "cell_type": "markdown",
      "metadata": {
        "id": "gGBgi87iyWJq"
      },
      "source": [
        "## Ponteiros"
      ]
    },
    {
      "cell_type": "markdown",
      "metadata": {
        "id": "Sczg6-bcBg2Y"
      },
      "source": [
        "É possível ainda usar ponteiros para uma estrutura. \n",
        "\n",
        "O modo de uso é bastante parecido com variáveis de tipos primitivos."
      ]
    },
    {
      "cell_type": "markdown",
      "metadata": {
        "id": "iiOL84BkBvTC"
      },
      "source": [
        "Exemplo de declaração de ponteiro para uma estrutura:\n",
        "\n",
        "`struct notas *p;`"
      ]
    },
    {
      "cell_type": "markdown",
      "metadata": {
        "id": "qi4f1SE3B4Ap"
      },
      "source": [
        "Através do ponteiro `p` é possível acessar qualquer membro da estrutura. \n",
        "\n",
        "Exemplo;\n",
        "\n",
        "`(*p).nota1;`\n",
        "\n",
        "Ou, através do formato abaixo:\n",
        "\n",
        "`p->nome;`"
      ]
    },
    {
      "cell_type": "markdown",
      "metadata": {
        "id": "f78rrox1xyZt"
      },
      "source": [
        "# Questões de Revisão\n",
        "\n",
        "1.   É correta a afirmação que o comando `typedef` cria um novo tipo de dados? Justifique a sua resposta.\n",
        "2.   É possível renomear um tipo de dados primitivo? Se for possível, apresente um exemplo.\n",
        "\n"
      ]
    }
  ]
}