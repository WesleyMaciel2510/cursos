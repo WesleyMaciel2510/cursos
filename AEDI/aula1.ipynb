{
  "nbformat": 4,
  "nbformat_minor": 0,
  "metadata": {
    "colab": {
      "provenance": [],
      "authorship_tag": "ABX9TyPzdlZhe91n6d9TMRDA+Yug",
      "include_colab_link": true
    },
    "kernelspec": {
      "name": "python3",
      "display_name": "Python 3"
    },
    "language_info": {
      "name": "python"
    }
  },
  "cells": [
    {
      "cell_type": "markdown",
      "metadata": {
        "id": "view-in-github",
        "colab_type": "text"
      },
      "source": [
        "<a href=\"https://colab.research.google.com/github/tmelo-uea/cursos/blob/main/AEDI/aula1.ipynb\" target=\"_parent\"><img src=\"https://colab.research.google.com/assets/colab-badge.svg\" alt=\"Open In Colab\"/></a>"
      ]
    },
    {
      "cell_type": "markdown",
      "source": [
        "#Observações\n",
        "\n",
        "* O conteúdo dessa aula é parcialmente proveniente do Capítulo 11 do livro “Fundamentals of Python – From First Programs Through Data Structures”.\n",
        "\n",
        "* As palavras com a fonte Courier indicam uma palavra-reservada da linguagem de programação.\n",
        "\n",
        "* Basta clicar na imagem para acessar as fontes das animações e figuras usadas nesse material.\n",
        "\n",
        "* Os slides com o símbolo CO (COLAB) abaixo indicam que o código estará disponível on-line."
      ],
      "metadata": {
        "id": "u9PeLGCzoUFD"
      }
    },
    {
      "cell_type": "markdown",
      "source": [
        "#Objetivos\n",
        "\n",
        "Após o término dessa aula você deverá ser capaz de:\n",
        "\n",
        "* Medir a performance de um algoritmo através do tempo e do número de instruções executadas com diferentes tamanhos de dados.\n",
        "\n",
        "* Analisar a performance de um algoritmo e determinar a sua ordem de complexidade utilizando a notação big-O.\n",
        "\n",
        "* Diferenciar as ordens de complexidade de algoritmos."
      ],
      "metadata": {
        "id": "O7CeWoyUomnL"
      }
    },
    {
      "cell_type": "markdown",
      "source": [
        "Medindo o tempo de execução de um algoritmo"
      ],
      "metadata": {
        "id": "rIYEGIL-ivfJ"
      }
    },
    {
      "cell_type": "code",
      "execution_count": null,
      "metadata": {
        "colab": {
          "base_uri": "https://localhost:8080/"
        },
        "id": "1Wqu0gIqhkyj",
        "outputId": "cdbdcf50-a687-486b-f474-e0749844cd0f"
      },
      "outputs": [
        {
          "output_type": "stream",
          "name": "stdout",
          "text": [
            "Tamanho     Segundos\n",
            "1000000        0.338\n",
            "2000000        0.713\n",
            "4000000        0.983\n",
            "8000000        2.303\n",
            "16000000       5.421\n"
          ]
        }
      ],
      "source": [
        "import time\n",
        "\n",
        "# Definindo o tamanho inicial do problema\n",
        "tamanho_do_problema = 1000000\n",
        "print(\"{:<12s}{:>8s}\".format(\"Tamanho\", \"Segundos\"))\n",
        "for contador in range(5):\n",
        "\n",
        "    # Marcando o tempo de início\n",
        "    inicio = time.time()\n",
        "\n",
        "    # Início do algoritmo\n",
        "    trabalho = 1\n",
        "    for x in range(tamanho_do_problema):\n",
        "        trabalho += 1\n",
        "        trabalho -= 1\n",
        "    # Fim do algoritmo\n",
        "\n",
        "    # Calculando o tempo decorrido\n",
        "    decorrido = time.time() - inicio\n",
        "    print(\"{:<12d}{:>8.3f}\".format(tamanho_do_problema, decorrido))\n",
        "\n",
        "    # Dobrando o tamanho do problema para a próxima iteração\n",
        "    tamanho_do_problema *= 2"
      ]
    },
    {
      "cell_type": "markdown",
      "source": [
        "Medindo o tempo de execução de um algoritmo (versão modificada):"
      ],
      "metadata": {
        "id": "7a9Og4dpkRQQ"
      }
    },
    {
      "cell_type": "code",
      "source": [
        "import time\n",
        "\n",
        "# Definindo o tamanho inicial do problema\n",
        "tamanho = 1000\n",
        "print(\"{:<12s}{:>16s}\".format(\"Tamanho\", \"Segundos\"))\n",
        "for count in range(5):\n",
        "\n",
        "    # Marcando o tempo de início\n",
        "    start = time.time()\n",
        "\n",
        "    # Início do algoritmo\n",
        "    work = 1\n",
        "    for x in range(tamanho):\n",
        "        for y in range(tamanho):\n",
        "            work += 1\n",
        "            work -= 1\n",
        "    # Término do algoritmo\n",
        "\n",
        "    # Calculando o tempo decorrido\n",
        "    elapsed = time.time() - start\n",
        "    print(\"{:<12d}{:>16.3f}\".format(tamanho, elapsed))\n",
        "\n",
        "    # Dobrando o tamanho do problema para a próxima iteração\n",
        "    tamanho *= 2"
      ],
      "metadata": {
        "colab": {
          "base_uri": "https://localhost:8080/"
        },
        "id": "olu2XMp4kVXw",
        "outputId": "dfe5663f-0618-4ecc-b098-6a07d519f078"
      },
      "execution_count": null,
      "outputs": [
        {
          "output_type": "stream",
          "name": "stdout",
          "text": [
            "Tamanho             Segundos\n",
            "1000                   0.166\n",
            "2000                   0.606\n",
            "4000                   2.465\n",
            "8000                  11.104\n",
            "16000                 42.854\n"
          ]
        }
      ]
    },
    {
      "cell_type": "markdown",
      "source": [
        "Medindo o número de instruções:"
      ],
      "metadata": {
        "id": "1xHq0M76lyrE"
      }
    },
    {
      "cell_type": "code",
      "source": [
        "import time\n",
        "\n",
        "tamanho = 1000\n",
        "print((\"%12s%15s\" % (\"Tamanho\", \"Iterações\")))\n",
        "\n",
        "for count in range(5):\n",
        "    quantidade = 0\n",
        "\n",
        "    # início do algoritmo\n",
        "    work = 1\n",
        "    start = time.time()\n",
        "    for j in range(tamanho):\n",
        "        for k in range(tamanho):\n",
        "            quantidade += 1\n",
        "            work += 1\n",
        "            work -= 1\n",
        "    # fim do algoritmo\n",
        "\n",
        "    elapsed = time.time() - start\n",
        "    print((\"%12d%15d\" % (tamanho, quantidade)))\n",
        "\n",
        "    tamanho *= 2"
      ],
      "metadata": {
        "colab": {
          "base_uri": "https://localhost:8080/"
        },
        "id": "8nrPikNMlvwW",
        "outputId": "09296dbc-80b2-4d07-9455-2cf66eb3fe1e"
      },
      "execution_count": null,
      "outputs": [
        {
          "output_type": "stream",
          "name": "stdout",
          "text": [
            "     Tamanho      Iterações\n",
            "        1000        1000000\n",
            "        2000        4000000\n",
            "        4000       16000000\n",
            "        8000       64000000\n",
            "       16000      256000000\n"
          ]
        }
      ]
    },
    {
      "cell_type": "markdown",
      "source": [
        "Medindo o número de instruções da série de Fibonacci"
      ],
      "metadata": {
        "id": "9IhZ5hBmmfMx"
      }
    },
    {
      "cell_type": "code",
      "source": [
        "class Counter(object):\n",
        "    def __init__(self):\n",
        "        self._number = 0\n",
        "\n",
        "    def increment(self):\n",
        "        self._number += 1\n",
        "\n",
        "    def __str__(self):\n",
        "        return str(self._number)\n",
        "\n",
        "def fib(n, counter):\n",
        "    # conta o número de chamadas para a função\n",
        "    counter.increment()\n",
        "    if n < 3:\n",
        "        return 1\n",
        "    else:\n",
        "        return (fib(n-1, counter) + fib(n-2, counter))\n",
        "\n",
        "tamanho = 2\n",
        "print(\"%12s%15s\" % (\"Tamanho\", \"Chamadas\"))\n",
        "for count in range(5):\n",
        "    counter = Counter()\n",
        "\n",
        "    # início do algoritmo\n",
        "    fib(tamanho, counter)\n",
        "    # término do algoritmo\n",
        "\n",
        "    print(\"%12s%15s\" % (tamanho, counter))\n",
        "    tamanho *= 2"
      ],
      "metadata": {
        "colab": {
          "base_uri": "https://localhost:8080/"
        },
        "id": "6ahufSkpmgJX",
        "outputId": "e6c4b7d0-d490-4680-d765-033fb0203d20"
      },
      "execution_count": null,
      "outputs": [
        {
          "output_type": "stream",
          "name": "stdout",
          "text": [
            "     Tamanho       Chamadas\n",
            "           2              1\n",
            "           4              5\n",
            "           8             41\n",
            "          16           1973\n",
            "          32        4356617\n"
          ]
        }
      ]
    }
  ]
}